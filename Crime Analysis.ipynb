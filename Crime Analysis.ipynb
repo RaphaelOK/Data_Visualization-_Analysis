{
 "cells": [
  {
   "cell_type": "markdown",
   "metadata": {},
   "source": [
    "# Crime Analysis of Montgomery County."
   ]
  },
  {
   "cell_type": "markdown",
   "metadata": {},
   "source": [
    "In this analysis,  two questions will be explored. First, are there any patterns in crime and what safety levels exist in the cities throughout the Montgomery County Maryland.\n",
    "\n",
    "The dataset used in work can be downloaded here https://drive.google.com/file/d/0B6nj1d7RmQ7Ta3JRRTcxN1hVYzg/view?usp=sharing"
   ]
  },
  {
   "cell_type": "markdown",
   "metadata": {},
   "source": [
    "# Inference"
   ]
  },
  {
   "cell_type": "markdown",
   "metadata": {},
   "source": [
    "1. Most crimes were reported between 6am and 12pm\n",
    "\n",
    "2. About 35% of all crime are considered violent\n",
    "\n",
    "3. Brookeville has the highest violent crimes reported per Capita\n",
    "\n",
    "4. It's most dangerous to be out in the evenings and at night\n"
   ]
  },
  {
   "cell_type": "code",
   "execution_count": 1,
   "metadata": {
    "collapsed": true
   },
   "outputs": [],
   "source": [
    "%matplotlib inline\n",
    "import pandas as pd\n",
    "pd.options.display.max_columns=25\n",
    "import matplotlib.pyplot as plt\n",
    "import numpy as np"
   ]
  },
  {
   "cell_type": "code",
   "execution_count": 2,
   "metadata": {
    "collapsed": true
   },
   "outputs": [],
   "source": [
    "cols=['Incident ID','CR Number','Dispatch Date / Time','Class',\n",
    "'Class Description','Police District Name','Block Address','City','State',\n",
    "'Zip Code','Agency','Place','Sector','Beat','PRA','Start Date / Time',\n",
    "      'End Date / Time','Latitude', 'Longitude','Police District Number', \n",
    "      'Location','Address Number']"
   ]
  },
  {
   "cell_type": "code",
   "execution_count": 3,
   "metadata": {
    "collapsed": true
   },
   "outputs": [],
   "source": [
    "data=pd.read_csv('/home/raphael/Documents/DataSets/crime_no_headers.csv')"
   ]
  },
  {
   "cell_type": "code",
   "execution_count": 4,
   "metadata": {
    "collapsed": true
   },
   "outputs": [],
   "source": [
    "data.columns=cols"
   ]
  },
  {
   "cell_type": "code",
   "execution_count": 5,
   "metadata": {},
   "outputs": [
    {
     "data": {
      "text/html": [
       "<div>\n",
       "<table border=\"1\" class=\"dataframe\">\n",
       "  <thead>\n",
       "    <tr style=\"text-align: right;\">\n",
       "      <th></th>\n",
       "      <th>Incident ID</th>\n",
       "      <th>CR Number</th>\n",
       "      <th>Dispatch Date / Time</th>\n",
       "      <th>Class</th>\n",
       "      <th>Class Description</th>\n",
       "      <th>Police District Name</th>\n",
       "      <th>Block Address</th>\n",
       "      <th>City</th>\n",
       "      <th>State</th>\n",
       "      <th>Zip Code</th>\n",
       "      <th>Agency</th>\n",
       "      <th>Place</th>\n",
       "      <th>Sector</th>\n",
       "      <th>Beat</th>\n",
       "      <th>PRA</th>\n",
       "      <th>Start Date / Time</th>\n",
       "      <th>End Date / Time</th>\n",
       "      <th>Latitude</th>\n",
       "      <th>Longitude</th>\n",
       "      <th>Police District Number</th>\n",
       "      <th>Location</th>\n",
       "      <th>Address Number</th>\n",
       "    </tr>\n",
       "  </thead>\n",
       "  <tbody>\n",
       "    <tr>\n",
       "      <th>0</th>\n",
       "      <td>200952042</td>\n",
       "      <td>13062965</td>\n",
       "      <td>12/31/2013 09:46:58 PM</td>\n",
       "      <td>1834</td>\n",
       "      <td>CDS-POSS MARIJUANA/HASHISH</td>\n",
       "      <td>GERMANTOWN</td>\n",
       "      <td>GUNNERS BRANCH  RD</td>\n",
       "      <td>GERMANTOWN</td>\n",
       "      <td>MD</td>\n",
       "      <td>20874.0</td>\n",
       "      <td>MCPD</td>\n",
       "      <td>Street - In vehicle</td>\n",
       "      <td>M</td>\n",
       "      <td>5M1</td>\n",
       "      <td>470.0</td>\n",
       "      <td>12/31/2013 09:46:00 PM</td>\n",
       "      <td>NaN</td>\n",
       "      <td>NaN</td>\n",
       "      <td>NaN</td>\n",
       "      <td>5D</td>\n",
       "      <td>NaN</td>\n",
       "      <td>NaN</td>\n",
       "    </tr>\n",
       "    <tr>\n",
       "      <th>1</th>\n",
       "      <td>200926636</td>\n",
       "      <td>13031483</td>\n",
       "      <td>07/06/2013 09:06:24 AM</td>\n",
       "      <td>1412</td>\n",
       "      <td>VANDALISM-MOTOR VEHICLE</td>\n",
       "      <td>MONTGOMERY VILLAGE</td>\n",
       "      <td>OLDE TOWNE  AVE</td>\n",
       "      <td>GAITHERSBURG</td>\n",
       "      <td>MD</td>\n",
       "      <td>20877.0</td>\n",
       "      <td>GPD</td>\n",
       "      <td>Parking Garage - County</td>\n",
       "      <td>P</td>\n",
       "      <td>6P3</td>\n",
       "      <td>431.0</td>\n",
       "      <td>07/06/2013 09:06:00 AM</td>\n",
       "      <td>NaN</td>\n",
       "      <td>NaN</td>\n",
       "      <td>NaN</td>\n",
       "      <td>6D</td>\n",
       "      <td>NaN</td>\n",
       "      <td>NaN</td>\n",
       "    </tr>\n",
       "    <tr>\n",
       "      <th>2</th>\n",
       "      <td>200929538</td>\n",
       "      <td>13035288</td>\n",
       "      <td>07/28/2013 09:13:15 PM</td>\n",
       "      <td>2752</td>\n",
       "      <td>FUGITIVE FROM JUSTICE(OUT OF STATE)</td>\n",
       "      <td>BETHESDA</td>\n",
       "      <td>BEACH  DR</td>\n",
       "      <td>CHEVY CHASE</td>\n",
       "      <td>MD</td>\n",
       "      <td>20815.0</td>\n",
       "      <td>MCPD</td>\n",
       "      <td>Street - In vehicle</td>\n",
       "      <td>D</td>\n",
       "      <td>2D1</td>\n",
       "      <td>11.0</td>\n",
       "      <td>07/28/2013 09:13:00 PM</td>\n",
       "      <td>NaN</td>\n",
       "      <td>NaN</td>\n",
       "      <td>NaN</td>\n",
       "      <td>2D</td>\n",
       "      <td>NaN</td>\n",
       "      <td>NaN</td>\n",
       "    </tr>\n",
       "    <tr>\n",
       "      <th>3</th>\n",
       "      <td>200930689</td>\n",
       "      <td>13036876</td>\n",
       "      <td>08/06/2013 05:16:17 PM</td>\n",
       "      <td>2812</td>\n",
       "      <td>DRIVING UNDER THE INFLUENCE</td>\n",
       "      <td>BETHESDA</td>\n",
       "      <td>BEACH  DR</td>\n",
       "      <td>SILVER SPRING</td>\n",
       "      <td>MD</td>\n",
       "      <td>20815.0</td>\n",
       "      <td>MCPD</td>\n",
       "      <td>Street - Residential</td>\n",
       "      <td>D</td>\n",
       "      <td>2D3</td>\n",
       "      <td>178.0</td>\n",
       "      <td>08/06/2013 05:16:00 PM</td>\n",
       "      <td>NaN</td>\n",
       "      <td>NaN</td>\n",
       "      <td>NaN</td>\n",
       "      <td>2D</td>\n",
       "      <td>NaN</td>\n",
       "      <td>NaN</td>\n",
       "    </tr>\n",
       "    <tr>\n",
       "      <th>4</th>\n",
       "      <td>200931009</td>\n",
       "      <td>13037095</td>\n",
       "      <td>08/07/2013 11:31:19 PM</td>\n",
       "      <td>1864</td>\n",
       "      <td>CDS IMPLMNT-MARIJUANA/HASHISH</td>\n",
       "      <td>MONTGOMERY VILLAGE</td>\n",
       "      <td>N270 CUTOVR X8 TO X9  HWY</td>\n",
       "      <td>GAITHERSBURG</td>\n",
       "      <td>MD</td>\n",
       "      <td>NaN</td>\n",
       "      <td>MCPD</td>\n",
       "      <td>Street - In vehicle</td>\n",
       "      <td>P</td>\n",
       "      <td>6P1</td>\n",
       "      <td>444.0</td>\n",
       "      <td>08/07/2013 11:31:00 PM</td>\n",
       "      <td>NaN</td>\n",
       "      <td>NaN</td>\n",
       "      <td>NaN</td>\n",
       "      <td>6D</td>\n",
       "      <td>NaN</td>\n",
       "      <td>NaN</td>\n",
       "    </tr>\n",
       "  </tbody>\n",
       "</table>\n",
       "</div>"
      ],
      "text/plain": [
       "   Incident ID  CR Number    Dispatch Date / Time  Class  \\\n",
       "0    200952042   13062965  12/31/2013 09:46:58 PM   1834   \n",
       "1    200926636   13031483  07/06/2013 09:06:24 AM   1412   \n",
       "2    200929538   13035288  07/28/2013 09:13:15 PM   2752   \n",
       "3    200930689   13036876  08/06/2013 05:16:17 PM   2812   \n",
       "4    200931009   13037095  08/07/2013 11:31:19 PM   1864   \n",
       "\n",
       "                     Class Description Police District Name  \\\n",
       "0           CDS-POSS MARIJUANA/HASHISH           GERMANTOWN   \n",
       "1              VANDALISM-MOTOR VEHICLE   MONTGOMERY VILLAGE   \n",
       "2  FUGITIVE FROM JUSTICE(OUT OF STATE)             BETHESDA   \n",
       "3          DRIVING UNDER THE INFLUENCE             BETHESDA   \n",
       "4        CDS IMPLMNT-MARIJUANA/HASHISH   MONTGOMERY VILLAGE   \n",
       "\n",
       "               Block Address           City State  Zip Code Agency  \\\n",
       "0         GUNNERS BRANCH  RD     GERMANTOWN    MD   20874.0   MCPD   \n",
       "1            OLDE TOWNE  AVE   GAITHERSBURG    MD   20877.0    GPD   \n",
       "2                  BEACH  DR    CHEVY CHASE    MD   20815.0   MCPD   \n",
       "3                  BEACH  DR  SILVER SPRING    MD   20815.0   MCPD   \n",
       "4  N270 CUTOVR X8 TO X9  HWY   GAITHERSBURG    MD       NaN   MCPD   \n",
       "\n",
       "                     Place Sector Beat    PRA       Start Date / Time  \\\n",
       "0      Street - In vehicle      M  5M1  470.0  12/31/2013 09:46:00 PM   \n",
       "1  Parking Garage - County      P  6P3  431.0  07/06/2013 09:06:00 AM   \n",
       "2      Street - In vehicle      D  2D1   11.0  07/28/2013 09:13:00 PM   \n",
       "3     Street - Residential      D  2D3  178.0  08/06/2013 05:16:00 PM   \n",
       "4      Street - In vehicle      P  6P1  444.0  08/07/2013 11:31:00 PM   \n",
       "\n",
       "  End Date / Time  Latitude  Longitude Police District Number Location  \\\n",
       "0             NaN       NaN        NaN                     5D      NaN   \n",
       "1             NaN       NaN        NaN                     6D      NaN   \n",
       "2             NaN       NaN        NaN                     2D      NaN   \n",
       "3             NaN       NaN        NaN                     2D      NaN   \n",
       "4             NaN       NaN        NaN                     6D      NaN   \n",
       "\n",
       "   Address Number  \n",
       "0             NaN  \n",
       "1             NaN  \n",
       "2             NaN  \n",
       "3             NaN  \n",
       "4             NaN  "
      ]
     },
     "execution_count": 5,
     "metadata": {},
     "output_type": "execute_result"
    }
   ],
   "source": [
    "data.head()"
   ]
  },
  {
   "cell_type": "code",
   "execution_count": 6,
   "metadata": {},
   "outputs": [
    {
     "name": "stdout",
     "output_type": "stream",
     "text": [
      "<class 'pandas.core.frame.DataFrame'>\n",
      "RangeIndex: 23368 entries, 0 to 23367\n",
      "Data columns (total 22 columns):\n",
      "Incident ID               23368 non-null int64\n",
      "CR Number                 23368 non-null int64\n",
      "Dispatch Date / Time      23368 non-null object\n",
      "Class                     23368 non-null int64\n",
      "Class Description         23368 non-null object\n",
      "Police District Name      23368 non-null object\n",
      "Block Address             23368 non-null object\n",
      "City                      23368 non-null object\n",
      "State                     23368 non-null object\n",
      "Zip Code                  23338 non-null float64\n",
      "Agency                    23368 non-null object\n",
      "Place                     23368 non-null object\n",
      "Sector                    23323 non-null object\n",
      "Beat                      23361 non-null object\n",
      "PRA                       23363 non-null float64\n",
      "Start Date / Time         23368 non-null object\n",
      "End Date / Time           13191 non-null object\n",
      "Latitude                  23208 non-null float64\n",
      "Longitude                 23208 non-null float64\n",
      "Police District Number    23368 non-null object\n",
      "Location                  23208 non-null object\n",
      "Address Number            23236 non-null float64\n",
      "dtypes: float64(5), int64(3), object(14)\n",
      "memory usage: 3.9+ MB\n"
     ]
    }
   ],
   "source": [
    "data.info()"
   ]
  },
  {
   "cell_type": "code",
   "execution_count": 7,
   "metadata": {},
   "outputs": [
    {
     "name": "stdout",
     "output_type": "stream",
     "text": [
      "The total number of crimes committed per month is \n",
      "\n",
      " 7     3520\n",
      "8     4002\n",
      "9     3927\n",
      "10    4074\n",
      "11    3941\n",
      "12    3904\n",
      "Name: Dispatch Date / Time, dtype: int64\n"
     ]
    }
   ],
   "source": [
    "\n",
    "data.loc[:,\"Dispatch Date / Time\"]=pd.to_datetime(data[\"Dispatch Date / Time\"])\n",
    "crime_month=data[\"Dispatch Date / Time\"].dt.month\n",
    "\n",
    "crime_month_sorted=crime_month.value_counts().sort_index()\n",
    "print(\"The total number of crimes committed per month is \\n\\n\", crime_month_sorted)"
   ]
  },
  {
   "cell_type": "code",
   "execution_count": 8,
   "metadata": {
    "collapsed": true
   },
   "outputs": [],
   "source": [
    "# Most crimes are committed in October. Maybe because some persons want\n",
    "# to make quick cash before the Christmas holidays. It is important to\n",
    "#note that only data for July to Dec is available. Thus, some \n",
    "#interpolation might be necessary to really be able to forecast yearly\n",
    "#trends."
   ]
  },
  {
   "cell_type": "markdown",
   "metadata": {},
   "source": [
    "# Percentage of crimes per week day"
   ]
  },
  {
   "cell_type": "code",
   "execution_count": 9,
   "metadata": {},
   "outputs": [
    {
     "name": "stdout",
     "output_type": "stream",
     "text": [
      "Percentage of crimes committed each day \n",
      "\n",
      " Tuesday      16.415611\n",
      "Monday       15.979117\n",
      "Wednesday    15.448477\n",
      "Friday       15.380007\n",
      "Thursday     14.566929\n",
      "Saturday     12.012153\n",
      "Sunday       10.197706\n",
      "Name: Dispatch Date / Time, dtype: float64\n"
     ]
    }
   ],
   "source": [
    "crime_weekday=data[\"Dispatch Date / Time\"].dt.weekday_name\n",
    "crime_weekday_percent=crime_weekday.value_counts(normalize=True)*100\n",
    "print(\"Percentage of crimes committed each day \\n\\n\", crime_weekday_percent)"
   ]
  },
  {
   "cell_type": "code",
   "execution_count": 10,
   "metadata": {
    "collapsed": true
   },
   "outputs": [],
   "source": [
    "#More crimes are committed on Tuesday-16%"
   ]
  },
  {
   "cell_type": "markdown",
   "metadata": {},
   "source": [
    "As they say, a picture is worth a thousand words. Lets illustrate the\n",
    "above result in a graph. These are categorical variables so a bar\n",
    "chart is a good candidate"
   ]
  },
  {
   "cell_type": "code",
   "execution_count": 11,
   "metadata": {},
   "outputs": [
    {
     "data": {
      "image/png": "[encoded data removed]",
      "text/plain": [
       "<matplotlib.figure.Figure at 0x7feb773407f0>"
      ]
     },
     "metadata": {},
     "output_type": "display_data"
    }
   ],
   "source": [
    "crime_week_day_percent=crime_weekday_percent.reindex([\"Monday\",\"Tuesday\",\n",
    "\"Wednesday\",\"Thursday\",\"Friday\",\"Saturday\",\"Sunday\"])\n",
    "\n",
    "ax=crime_week_day_percent.plot(kind='bar',figsize=(8,6),alpha=0.5)\n",
    "\n",
    "\n",
    "\n",
    "plt.title(\"Crimes per week day\", weight='bold', fontsize=15,color='black')\n",
    "plt.xlabel(\"Week days\", color=\"black\")\n",
    "plt.xticks(rotation=45,color='black')\n",
    "plt.yticks(color='black')\n",
    "\n",
    "vals = ax.get_yticks()\n",
    "\n",
    "\n",
    "ax.set_yticklabels(['{:3.1f}%'.format(x) for x in vals])\n",
    "ax.spines[\"right\"].set_visible(False)    \n",
    "ax.spines[\"left\"].set_visible(False)\n",
    "ax.spines[\"top\"].set_visible(False)\n",
    "ax.tick_params(bottom=\"off\", top=\"off\", left=\"off\", right=\"off\")\n",
    "plt.ylabel('Percentage of Crimes Reported', color='black')\n",
    "plt.show()"
   ]
  },
  {
   "cell_type": "markdown",
   "metadata": {},
   "source": [
    "# Let's look at crimes  committed in 24hrs"
   ]
  },
  {
   "cell_type": "code",
   "execution_count": 12,
   "metadata": {},
   "outputs": [
    {
     "name": "stdout",
     "output_type": "stream",
     "text": [
      " The number of crimes committed during the day vs night are : \n",
      " Day      13813\n",
      "Night     9555\n",
      "Name: Dispatch Date / Time, dtype: int64\n"
     ]
    }
   ],
   "source": [
    "#Lets define a typical day as the times between the hours of 6am and 6pm\n",
    "\n",
    "hour_crime=data[\"Dispatch Date / Time\"].dt.hour\n",
    "\n",
    "day_crime=(hour_crime >=6) &( hour_crime <18)\n",
    "day_crime_counts=day_crime.value_counts()\n",
    "\n",
    "#Let's re-assign the index\n",
    "\n",
    "day_crime_counts.index=[\"Day\", \"Night\"]\n",
    "\n",
    "print(\" The number of crimes committed during the day vs night are : \\n\", day_crime_counts)\n"
   ]
  },
  {
   "cell_type": "markdown",
   "metadata": {
    "collapsed": true
   },
   "source": [
    "This shows that 59% of the crimes are committed during the day\n",
    "\n",
    "\n",
    "\n",
    "Let's have a look at the break down of the crimes committed during the day\n"
   ]
  },
  {
   "cell_type": "code",
   "execution_count": 13,
   "metadata": {},
   "outputs": [
    {
     "name": "stdout",
     "output_type": "stream",
     "text": [
      "Crimes as committed every 6hours : \n",
      " {'Afternoon': 3269, 'Evening': 6971, 'Night': 6842, 'Morning': 6286}\n"
     ]
    }
   ],
   "source": [
    "\n",
    "crime_int_6hrs={'Morning': '', 'Afternoon':'', 'Evening': '', 'Night':''}\n",
    "\n",
    "\n",
    "#initialize a for loop such that it loops through the crime_int_6hrs and applying a customized filter\n",
    "#we gona create\n",
    "\n",
    "i=0\n",
    "\n",
    "for item in crime_int_6hrs:\n",
    "    crime_int_6hrs[item]=hour_crime[(hour_crime >=i) & (hour_crime <i+6)   ].shape[0]\n",
    "    i=i+6\n",
    "    \n",
    "    \n",
    "\n",
    "print(\"Crimes as committed every 6hours : \\n\", crime_int_6hrs)    \n",
    "    "
   ]
  },
  {
   "cell_type": "markdown",
   "metadata": {
    "collapsed": true
   },
   "source": [
    "Turns out that most crimes are committed at Night. A nice way to visuzlize this breakdown will be with the aid of\n",
    "a pie chart. Let's make one"
   ]
  },
  {
   "cell_type": "code",
   "execution_count": 14,
   "metadata": {},
   "outputs": [
    {
     "name": "stderr",
     "output_type": "stream",
     "text": [
      "/usr/local/lib/python3.4/dist-packages/IPython/html.py:14: ShimWarning: The `IPython.html` package has been deprecated since IPython 4.0. You should import from `notebook` instead. `IPython.html.widgets` has moved to `ipywidgets`.\n",
      "  \"`IPython.html.widgets` has moved to `ipywidgets`.\", ShimWarning)\n"
     ]
    }
   ],
   "source": [
    "import seaborn as sns\n",
    "\n",
    "sns.set_style(\"whitegrid\")"
   ]
  },
  {
   "cell_type": "code",
   "execution_count": 15,
   "metadata": {},
   "outputs": [
    {
     "data": {
      "image/png": "[encoded data removed]",
      "text/plain": [
       "<matplotlib.figure.Figure at 0x7feb6b2e1a20>"
      ]
     },
     "metadata": {},
     "output_type": "display_data"
    }
   ],
   "source": [
    "colors = ['gold', 'yellowgreen', 'lightcoral', 'lightskyblue']\n",
    "explode=(0,0.1,0,0)\n",
    "plt.pie([val for val in crime_int_6hrs.values()],explode=explode, labels=[k for k in crime_int_6hrs.keys()],\n",
    "       colors=colors, autopct='%1.1f%%', shadow=True, startangle=140)\n",
    "\n",
    "\n",
    "plt.axis(\"equal\")\n",
    "plt.title(\"Pie chart showing crimes committed in 6hrs intervals\",fontsize=15,y=1.1)\n",
    "plt.show()"
   ]
  },
  {
   "cell_type": "markdown",
   "metadata": {
    "collapsed": true
   },
   "source": [
    "# How long does it take an officer to get to a crime scene ?"
   ]
  },
  {
   "cell_type": "markdown",
   "metadata": {
    "collapsed": true
   },
   "source": [
    "To get this information,  difference between the Disptach Time  and Start Time columns will be calculated"
   ]
  },
  {
   "cell_type": "code",
   "execution_count": 16,
   "metadata": {},
   "outputs": [
    {
     "name": "stdout",
     "output_type": "stream",
     "text": [
      "0     0 days 00:00:58\n",
      "1     0 days 00:00:24\n",
      "2     0 days 00:00:15\n",
      "3     0 days 00:00:17\n",
      "4     0 days 00:00:19\n",
      "5     0 days 00:00:08\n",
      "6     0 days 00:16:49\n",
      "7     0 days 00:00:15\n",
      "8     0 days 00:00:48\n",
      "9     0 days 00:00:09\n",
      "10    0 days 00:00:21\n",
      "11    0 days 00:00:35\n",
      "12   60 days 04:18:25\n",
      "13    0 days 00:00:24\n",
      "14    0 days 00:00:48\n",
      "Name: Time_diff, dtype: timedelta64[ns]\n"
     ]
    }
   ],
   "source": [
    "disp_time=pd.to_datetime(data['Dispatch Date / Time'])\n",
    "start_time=pd.to_datetime(data[\"Start Date / Time\"])\n",
    "\n",
    "data['Time_diff']=disp_time-start_time\n",
    "\n",
    "\n",
    "print(data[\"Time_diff\"].head(15))"
   ]
  },
  {
   "cell_type": "markdown",
   "metadata": {
    "collapsed": true
   },
   "source": [
    "The above output has an inconsistency-for example, line 12 makes no sense as it can't take a cop 60 days\n",
    "to get to a crime scene. This is an outlier which we must get rid of. To get this done, we will filter out values greater than a day."
   ]
  },
  {
   "cell_type": "code",
   "execution_count": 17,
   "metadata": {},
   "outputs": [
    {
     "name": "stdout",
     "output_type": "stream",
     "text": [
      "The average response time for a reported crime is \n",
      ": 0 days 00:00:48\n"
     ]
    }
   ],
   "source": [
    "data['Time_diff_days']=data[\"Time_diff\"].astype('timedelta64[D]')\n",
    "\n",
    "day_filter=~(data[\"Time_diff_days\"]>0) & ~(data[\"Time_diff_days\"]<0)\n",
    "\n",
    "avg_resp_time=data[day_filter]['Time_diff'].median()\n",
    "\n",
    "print(\"The average response time for a reported crime is \\n:\", avg_resp_time)"
   ]
  },
  {
   "cell_type": "markdown",
   "metadata": {
    "collapsed": true
   },
   "source": [
    " wow! 48 seconds. That seems too fast. However, it is important to remember that the above times is not the time\n",
    " it takes the officers to arrive at the crime scene. But its the time between when a crime is called in and when an officer is dispatched."
   ]
  },
  {
   "cell_type": "markdown",
   "metadata": {
    "collapsed": true
   },
   "source": [
    "# Crimes by city"
   ]
  },
  {
   "cell_type": "markdown",
   "metadata": {
    "collapsed": true
   },
   "source": [
    "Let's visualize the crimes reported by city. The city column in the dataset will be employed for this task. This is not a continuous variable, so a line graph won't be ideal. It looks more like a categorical variable"
   ]
  },
  {
   "cell_type": "code",
   "execution_count": 18,
   "metadata": {},
   "outputs": [
    {
     "data": {
      "image/png": "[encoded data removed]",
      "text/plain": [
       "<matplotlib.figure.Figure at 0x7feb6b2e1828>"
      ]
     },
     "metadata": {},
     "output_type": "display_data"
    }
   ],
   "source": [
    "sns.set_style(\"darkgrid\")\n",
    "\n",
    "crime_by_city=data[\"City\"].value_counts(normalize=True)*100\n",
    "\n",
    "ax=crime_by_city.plot(kind=\"bar\",x=\"City\", figsize=(15,5))\n",
    "plt.grid('on')\n",
    "\n",
    "plt.title(\"Crimes by city\", color='black', fontsize='15')\n",
    "plt.xticks(color='black')\n",
    "\n",
    "vals=ax.get_yticks()\n",
    "ax.set_yticklabels(['{:3.1f}%'.format(x) for x in vals])\n",
    "plt.yticks(color='black')\n",
    "\n",
    "plt.show()"
   ]
  },
  {
   "cell_type": "markdown",
   "metadata": {
    "collapsed": true
   },
   "source": [
    "As shown above, Silver Spring has the most crimes committed. Let's investiage the crime per capita of each area. A little research online turned up the population of each area. This will be encaspulated in a python dictonary\n"
   ]
  },
  {
   "cell_type": "code",
   "execution_count": 19,
   "metadata": {},
   "outputs": [
    {
     "data": {
      "text/html": [
       "<div>\n",
       "<table border=\"1\" class=\"dataframe\">\n",
       "  <thead>\n",
       "    <tr style=\"text-align: right;\">\n",
       "      <th></th>\n",
       "      <th>Crimes per 100000 people</th>\n",
       "    </tr>\n",
       "    <tr>\n",
       "      <th>City</th>\n",
       "      <th></th>\n",
       "    </tr>\n",
       "  </thead>\n",
       "  <tbody>\n",
       "    <tr>\n",
       "      <th>KENSINGTON</th>\n",
       "      <td>67.159808</td>\n",
       "    </tr>\n",
       "    <tr>\n",
       "      <th>DAMASCUS</th>\n",
       "      <td>8.573689</td>\n",
       "    </tr>\n",
       "    <tr>\n",
       "      <th>MONTGOMERY VILLAGE</th>\n",
       "      <td>9.178065</td>\n",
       "    </tr>\n",
       "    <tr>\n",
       "      <th>DERWOOD</th>\n",
       "      <td>7.406578</td>\n",
       "    </tr>\n",
       "    <tr>\n",
       "      <th>BURTONSVILLE</th>\n",
       "      <td>9.749133</td>\n",
       "    </tr>\n",
       "    <tr>\n",
       "      <th>BARNESVILLE</th>\n",
       "      <td>9.616531</td>\n",
       "    </tr>\n",
       "    <tr>\n",
       "      <th>HYATTSVILLE</th>\n",
       "      <td>0.023232</td>\n",
       "    </tr>\n",
       "    <tr>\n",
       "      <th>BRINKLOW</th>\n",
       "      <td>13.894014</td>\n",
       "    </tr>\n",
       "    <tr>\n",
       "      <th>GLEN ECHO</th>\n",
       "      <td>6.363355</td>\n",
       "    </tr>\n",
       "    <tr>\n",
       "      <th>GAITHERSBURG</th>\n",
       "      <td>21.795154</td>\n",
       "    </tr>\n",
       "  </tbody>\n",
       "</table>\n",
       "</div>"
      ],
      "text/plain": [
       "                    Crimes per 100000 people\n",
       "City                                        \n",
       "KENSINGTON                         67.159808\n",
       "DAMASCUS                            8.573689\n",
       "MONTGOMERY VILLAGE                  9.178065\n",
       "DERWOOD                             7.406578\n",
       "BURTONSVILLE                        9.749133\n",
       "BARNESVILLE                         9.616531\n",
       "HYATTSVILLE                         0.023232\n",
       "BRINKLOW                           13.894014\n",
       "GLEN ECHO                           6.363355\n",
       "GAITHERSBURG                       21.795154"
      ]
     },
     "execution_count": 19,
     "metadata": {},
     "output_type": "execute_result"
    }
   ],
   "source": [
    "pop_by_city ={'SILVER SPRING': 71452,'ROCKVILLE': 61209,'GAITHERSBURG': 66816, 'GERMANTOWN': 90676,\n",
    "              \n",
    "              \n",
    "              'BETHESDA': 60858,'MONTGOMERY VILLAGE': 32032, 'POTOMAC': 44965, 'CHEVY CHASE': 2959,\n",
    "              \n",
    "              \n",
    "              'OLNEY': 33844,'KENSINGTON': 2313,'BURTONSVILLE':13344,'DERWOOD':15600,'DAMASCUS':11430,\n",
    "              \n",
    "              'CLARKSBURG':13677,'TAKOMA PARK':17670,'POOLESVILLE':5160,'BOYDS':10460,'BROOKEVILLE':134,\n",
    "              \n",
    "              'SANDY SPRING':5648,'DICKERSON':1848,'ASHTON':5648,'SPENCERVILLE':15594,\n",
    "              \n",
    "              'WASHINGTON GROVE':573,'BRINKLOW':154,'BARNESVILLE':178,'GLEN ECHO':269,'MOUNT AIRY':9388,\n",
    "              \n",
    "              'LAUREL':26160,'BEALLSVILLE':111,'HYATTSVILLE':18420} \n",
    "\n",
    "\n",
    "\n",
    "crime_per_capita = {}\n",
    "\n",
    "\n",
    "crime_per_capita = {city:((crime_by_city.loc[city]/pop)*100000) for (city, pop) in pop_by_city.items()}\n",
    "\n",
    "\n",
    "crimes_per_100000_people = pd.DataFrame({'City': list(crime_per_capita.keys()), \n",
    "              'Crimes per 100000 people': list(crime_per_capita.values())})\n",
    "crimes_per_100000_people = crimes_per_100000_people.set_index('City')\n",
    "crimes_per_100000_people.head(10)\n"
   ]
  },
  {
   "cell_type": "markdown",
   "metadata": {
    "collapsed": true
   },
   "source": [
    "Let's vizualize the above data"
   ]
  },
  {
   "cell_type": "code",
   "execution_count": 20,
   "metadata": {},
   "outputs": [
    {
     "data": {
      "image/png": "[encoded data removed]",
      "text/plain": [
       "<matplotlib.figure.Figure at 0x7feb77ea3358>"
      ]
     },
     "metadata": {},
     "output_type": "display_data"
    }
   ],
   "source": [
    "crimes_per_100000_people.sort_values('Crimes per 100000 people',ascending=False, inplace=True)\n",
    "crimes_per_100000_people.plot(kind='bar',figsize=(15,7),legend=None)\n",
    "\n",
    "\n",
    "plt.grid(True)\n",
    "plt.title(\"Crimes per Capita for each city\",color='black',fontsize=15)\n",
    "\n",
    "plt.xlabel(\"Cities\", color='black',fontsize=15)\n",
    "plt.xticks(color='black')\n",
    "\n",
    "\n",
    "vals = ax.get_yticks()\n",
    "ax.set_yticklabels(['{:3.1f}%'.format(x) for x in vals])\n",
    "plt.ylabel('Crimes per Capita', color='black',fontsize=15)\n",
    "plt.yticks(color='black')\n",
    "plt.show()"
   ]
  },
  {
   "cell_type": "markdown",
   "metadata": {
    "collapsed": true
   },
   "source": [
    "Now we gain a better understanding of the data itself. We should have expected Silver Spring to lead the pack as it has twice the amount of crimes being reported than the next closest city. This is why it is important that a per capita value is used when comparing large population centres to smaller ones.\n",
    "\n",
    "\n",
    "In this graph, Brookeville has the largest amount of crime and it has a population of 134 people. "
   ]
  },
  {
   "cell_type": "markdown",
   "metadata": {
    "collapsed": true
   },
   "source": [
    "# Violent crimes"
   ]
  },
  {
   "cell_type": "markdown",
   "metadata": {
    "collapsed": true
   },
   "source": [
    "Let's  look at the various crimes being committed and determine whether they are violent or not and then suggest which cities should be avoided."
   ]
  },
  {
   "cell_type": "code",
   "execution_count": 21,
   "metadata": {},
   "outputs": [
    {
     "data": {
      "text/plain": [
       "DRIVING UNDER THE INFLUENCE                        1710\n",
       "CDS-POSS MARIJUANA/HASHISH                         1334\n",
       "POL INFORMATION                                    1191\n",
       "LARCENY FROM AUTO OVER $200                         914\n",
       "LARCENY FROM BUILDING OVER $200                     895\n",
       "MENTAL TRANSPORT                                    841\n",
       "VANDALISM-MOTOR VEHICLE                             762\n",
       "LOST PROPERTY                                       729\n",
       "LARCENY OTHER OVER $200                             652\n",
       "LARCENY FROM AUTO UNDER $50                         610\n",
       "FORGERY/CNTRFT - IDENTITY THEFT                     596\n",
       "LARCENY SHOPLIFTING OVER $200                       529\n",
       "LARCENY SHOPLIFTING $50 - $199                      489\n",
       "LIQUOR - DRINK IN PUB OVER 21                       482\n",
       "DISORDERLY CONDUCT                                  464\n",
       "ASSAULT & BATTERY - CITIZEN                         382\n",
       "LARCENY FROM AUTO $50 - $199                        356\n",
       "FORGERY/CNTRFT-CRDT CARDS                           342\n",
       "MISSING PERSON                                      341\n",
       "SIMPLE ASSAULT - CITIZEN                            311\n",
       "CDS IMPLMNT-MARIJUANA/HASHISH                       297\n",
       "AUTO THEFT - PASSENGER VEHICLE                      293\n",
       "ASSAULT & BATTERY SPOUSE/PARTNER                    290\n",
       "LARCENY AUTO PART UNDER $50                         267\n",
       "LARCENY SHOPLIFTING UNDER $50                       258\n",
       "JUVENILE RUNAWAY                                    258\n",
       "BURG FORCE-RES/DAY                                  240\n",
       "SUDDEN DEATH NATURAL                                223\n",
       "TRESPASSING                                         223\n",
       "LARCENY FROM BUILDING $50-$199                      221\n",
       "VANDALISM-DWELLING                                  212\n",
       "LARCENY OTHER UNDER $50                             209\n",
       "LARCENY OTHER $50 - $199                            202\n",
       "FORGERY/CNTRFT-ALL OTHER                            197\n",
       "BURG FORCE-RES/TIME UNK                             184\n",
       "LARCENY BICYCLE OVER $200                           178\n",
       "VANDALISM-OTHER                                     172\n",
       "LARCENY FROM BLDG UNDER $50                         165\n",
       "CDS-SELL-MARIJUANA/HASHISH                          157\n",
       "BURG FORCE-COMM/NIGHT                               149\n",
       "RECOVERED PROPERTY/MONT. CO.                        147\n",
       "FORGERY/CNTRFT-CHECKS                               146\n",
       "BURG FORCE-RES/NIGHT                                143\n",
       "LARCENY AUTO PART OVER $200                         142\n",
       "BURG NO FORCE - RES/DAY                             121\n",
       "ALL OTHER NON-TRAFFIC CRIM OFFENSES                 112\n",
       "SIMPLE ASSAULT SPOUSE/PARTNER                       111\n",
       "ROB STNG ARM - STREET                               106\n",
       "RECOVERED PROPERTY/OTHER                            104\n",
       "EX PARTE/PROTECT. ORDER VIOL.                       101\n",
       "ASSAULT & BATTERY OTHER DOMESTIC                     88\n",
       "FAMILY OFFENSE - ABUSE/CHILD                         88\n",
       "SIMPLE ASSAULT OTHER DOMESTIC                        87\n",
       "THREATENING/ANNOYING PHONE CALL                      83\n",
       "BURG NO FORCE - RES/TIME UNK                         82\n",
       "BURG NO FORCE - RES/NIGHT                            82\n",
       "EMBEZZLE CONFIDENCE GAMES-$300+                      81\n",
       "SUDDEN DEATH UNDETERMINED                            77\n",
       "CDS-POSS COCAINE& DERIVATIVES                        75\n",
       "AUTO THEFT - OTHER VEHICLES                          71\n",
       "VANDALISM-COMMERCIAL EST                             69\n",
       "LIQUOR - UNLAWFUL POSS UNDER 21                      67\n",
       "CDS-POSS- OPIUM & DERIVATIVES                        67\n",
       "BURG FORCE - ATTEMPT-RES/DAY                         58\n",
       "ROB FIREARM - STREET                                 56\n",
       "ASSAULT & BATTERY - POLICE OFFICER                   55\n",
       "UNAUTH. USE OF MOTOR VEHICLE                         54\n",
       "LARCENY BICYCLE $50 - $199                           54\n",
       "CDS-SELL-COCAINE& DERIVATIVES                        53\n",
       "BURG FORCE-COMM/TIME UNK                             53\n",
       "SUICIDE-ATTEMPT-POISON/OVERDOSE                      52\n",
       "HARASSMENT/STALKING                                  51\n",
       "SIMPLE ASSAULT - PO                                  50\n",
       "LIQUOR - FURNISHING LIQUOR UNDER 21                  50\n",
       "WEAPON CONCEALED OTHER WEAPON                        49\n",
       "SEX OFFENSE - SEX  ASSAULT                           47\n",
       "BURG FORCE - ATTEMPT- RES/NIGHT                      45\n",
       "FAMILY OFFENSE-NEGLECT/CHILD                         44\n",
       "AUTO THEFT - TRUCKS & BUSES                          42\n",
       "LARCENY AUTO PART $50-$199                           40\n",
       "WEAPON POSSESSION OTHER WEAPON                       39\n",
       "LARCENY PICK POCKET OVER $200                        38\n",
       "SEX OFFENSE - 4TH DEGREE SEX OFFENSE                 38\n",
       "AGG ASSLT CUT/STAB CITIZEN                           36\n",
       "RAPE-FORCE                                           36\n",
       "LIQUOR - UNDERAGE DRINKING PARTY                     36\n",
       "EMBEZZLE LARC AFT TRUST ABOVE $300                   35\n",
       "VANDALISM-SCHOOL                                     34\n",
       "SEX  OFFENSE- INDECENT EXPOSURE                      34\n",
       "BURG FORCE - ATTEMPT-RES/TIME UNK                    34\n",
       "FIRE OTHER                                           34\n",
       "FAIL PAY BOARD/LDG/FOOD/TAXI/SERVIC                  31\n",
       "FUGITIVE FROM JUSTICE(OUT OF STATE)                  30\n",
       "RECOVERED PROPERTY - FIREARM                         30\n",
       "ROB STNG ARM - OTHER                                 29\n",
       "FALSE STATEMNT/REPORT OF CRIME                       29\n",
       "BURG FORCE - ATTEMPT-COMM/NIGHT                      29\n",
       "CDS IMPLEMNT-COCAINE& DERIVATI                       28\n",
       "CDS-SELL-OPIUM & DERIVATIVES                         28\n",
       "EMBEZZLEMENT $300 OR MORE                            27\n",
       "AGG ASSLT OTHER WPN CITIZEN                          26\n",
       "LITTERING/TRASH DUMPING                              24\n",
       "WEAPON POSSESSION HANDGUN                            24\n",
       "ROB KNIFE/CUT INST - STREET                          24\n",
       "CDS-POSS BARBITURATES/AMPHETAM                       21\n",
       "BURG NO FORCE - COMM/NIGHT                           20\n",
       "LARCENY PURSE SNATCH OVER $200                       20\n",
       "CDS RX FORG OPIUM & DERIVATIVE                       20\n",
       "CDS IMPLEMNT-OPIUM&DERIVATIVE                        20\n",
       "BAD CHECKS-CASH/OTHER $300+                          20\n",
       "CDS-POSS HALLUC/LSD/PCP ETC                          20\n",
       "VIOLATION OF ALCOHOL RESTRICTION                     19\n",
       "CDS-POSS SYNTH DEMEROL/METHADO                       18\n",
       "CDS-MANU-MARIJUANA/HASHISH                           18\n",
       "SEX OFFENDER-REGISTRATION VIOLATION                  18\n",
       "VANDALISM GRAFFITI OTHER                             18\n",
       "AGG ASSLT BEAT/INJ CTZN                              18\n",
       "ROB STNG ARM - RES                                   17\n",
       "VANDALISM GRAFFITI MOTOR VEH                         17\n",
       "SUICIDE - POISON/OVERDOSE                            17\n",
       "PROSTITUTION/VICE-DISORDERLY HOUS                    16\n",
       "BURG FORCE-COMM/DAY                                  16\n",
       "VANDALISM GRAFFITI COMMERC EST                       16\n",
       "SUICIDE-ATTEMPT-CUT/STAB                             16\n",
       "AGG  ASSLT BEAT/INJ SPOUSE/PARTNER                   15\n",
       "LARCENY PICK POCKET $50 - $199                       15\n",
       "AGG ASSLT FIREARM CITIZEN                            15\n",
       "WEAPON CONCEALED HANDGUN                             15\n",
       "AGG ASSLT OTHER WPN OTHR DOMEST                      14\n",
       "BURG NO FORCE - COMM/TIME UNK                        13\n",
       "CDS-USE MARIJUANA/HASHISH                            13\n",
       "VANDALISM GRAFFITI DWELLING                          13\n",
       "ROB FIREARM - RESIDENTIAL                            12\n",
       "ROB FIREARM - COMMERCIAL                             12\n",
       "VANDALISM GRAFFITI SCHOOL                            12\n",
       "PORNOGRAPHY                                          12\n",
       "OTHER MISCELLANEOUS                                  12\n",
       "EMBEZZLE LARC AFTER TRUST UNDER $300                 11\n",
       "SUICIDE-ATTEMPT-OTHER                                11\n",
       "PROSTITUTION/VICE-SOLICIT/PANDER                     11\n",
       "SEX OFFENSE - PEEPING TOM                            11\n",
       "BOMB THREAT                                          11\n",
       "AGG  ASSLT CUT/STAB OTHR DOMESTC                     11\n",
       "SUSPICIOUS SIT/PERSON/VEHICLE                        10\n",
       "SEX OFFENSE - ALL OTHER SEX OFFENSE                  10\n",
       "SOLICITING/TRADE W/O LIC                             10\n",
       "EMBEZZLE/THEFT-$300+ OTHER                           10\n",
       "SUICIDE - FIREARM                                    10\n",
       "BAD CHECKS-MERCHANDISE/ $300+                        10\n",
       "ROB STNG ARM - COMM                                  10\n",
       "ROB FIREARM - FINANCIAL INSTITUTION                  10\n",
       "FAMILY TROUBLE                                        9\n",
       "AGG ASSLT BEAT/INJ OTHR DOMES                         9\n",
       "ROB OTHER WEAPON - STREET                             9\n",
       "BURG FORCE - ATTEMPT - COM/TIME UNK                   9\n",
       "ARSON  MOTOR VEHICLE                                  9\n",
       "DRUNK                                                 9\n",
       "ROB FIREARM - OTHER                                   9\n",
       "LARCENY PICK POCKET UNDER $50                         8\n",
       "FAMILY OFFENSE - ELDER ABUSE                          8\n",
       "STOLEN PROP-POSSES/BUY/RECEIVE                        8\n",
       "SUDDEN DEATH ACC NON TRAFF                            8\n",
       "AGG ASSLT CUT/STAB SPOUSE/PARTNER                     8\n",
       "SUICIDE - HANGING                                     8\n",
       "EMBEZZLE CONFIDENCE GAMES UNDER $300                  8\n",
       "JUVENILE OTHER/RUNAWAY-OTHER JURISDICTION             8\n",
       "JUVENILE OFFENSE OTHER                                8\n",
       "ILL PERSON                                            8\n",
       "WEAPON POSSESSION OTHER FIREARM                       8\n",
       "ARSON - UNOCCUPIED STRUCT/OTH                         7\n",
       "CDS-POSS DRUG OVERDOSE NOT FATAL                      7\n",
       "CDS-USE DRUG OVERDOSE NOT FATAL                       7\n",
       "ROB STNG ARM - FINANCIAL INSTITUTION                  7\n",
       "ROB FIREARM - GAS/SVC STA                             7\n",
       "BURG NO FORCE - COMM/DAY                              7\n",
       "ROB KNIFE/CUT INST - RESIDENTIAL                      7\n",
       "ROB FIREARM - CONV. STORE                             7\n",
       "BLACKMAIL/EXTORTION                                   6\n",
       "EXPLOSIVE DEVICE                                      6\n",
       "PANHANDLING                                           6\n",
       "CDS-SELL-HALLUC/LSD/PCP ETC                           6\n",
       "LIQUOR - HOURS SALE LIQUOR VIOLATION                  6\n",
       "WEAPON DISCHARGING OTHER FIREARM                      6\n",
       "VANDAL-CONSTR/SITE/EQUIP                              6\n",
       "SUICIDE - OTHER                                       6\n",
       "ARSON- OCCUPIED STRUCTURE                             5\n",
       "SUICIDE-ATTEMPT-HANGING                               5\n",
       "RAPE - ATTEMPT - FORCE                                5\n",
       "ROB KNIFE/CUT INS - OTHER                             5\n",
       "LARCENY PURSE SNATCH $50 - $199                       5\n",
       "RENTAL CAR VIOLATION                                  5\n",
       "ROB OTHER WEAPON - OTHER                              5\n",
       "CDS-SELL-BARBITURATES/AMPHETAM                        5\n",
       "SUICIDE - CUT/STAB                                    5\n",
       "BURG FORCE - ATTEMPT -COMM/DAY                        5\n",
       "AGG ASSLT OTHER WPN SPOUSE/PARTNER                    5\n",
       "VANDALISM-CHURCH/TEMPLE                               5\n",
       "WEAPON DISCHARGING HANDGUN                            5\n",
       "AGG ASSLT OTHER WPN P.O.                              4\n",
       "WEAPON TRAFFICIKING  HANDGUN                          4\n",
       "BAD CHECKS-LABOR/SERVICE $300+                        4\n",
       "FIREWORKS                                             4\n",
       "ARSON ATTEMPT UNOCCUPIED STRUCTURE/OTH PROP           4\n",
       "DISCONDUCT-DISORDERLY HOUSE(NOT SEX)                  4\n",
       "ROB KNIFE/CUT INST - COMM                             4\n",
       "CDS-SELL-SYNTH DEMEROL/METHADO                        4\n",
       "CDS RX FORGERY BARBITURATES/AMPHET                    4\n",
       "INJURY- NONTRAFFIC                                    4\n",
       "ASSAULT & BATTERY - ELDERLY                           4\n",
       "LARCENY PURSE SNATCH UNDER $50                        4\n",
       "ANIMAL OFFENSE - AGG ANIMAL/BITE                      3\n",
       "CDS RX-FORGERY SYNTH DEMEROL/METHA                    3\n",
       "HOMICIDE-FIREARM                                      3\n",
       "ROB OTHER WEAPON - RES                                3\n",
       "IMPERSONATING POLICE OFFICER                          3\n",
       "ROB FIREARM CARJACK                                   3\n",
       "SUICIDE - ASPHYXIATION                                3\n",
       "ROGUE AND VAGABOND                                    3\n",
       "BURG NO FORCE - SCH/NIGHT                             3\n",
       "LOITERING                                             3\n",
       "CDS-USE HALLUC/LSD/PCP/ETC.                           3\n",
       "FAMILY OFFENSE - ELDER NEGLECT                        3\n",
       "CDS IMPLMNT-OVERDOSE/NOT FATAL                        3\n",
       "FUGITIVE FROM OTHER MD JURISDICTION                   3\n",
       "FAMILY OFFENSE - CHILD UNDER 12 TAKEN BY PARENT       3\n",
       "CDS-USE OPIUM & DERIVATIVE                            3\n",
       "ARSON UNDER INVEST - UNOCCUP/OTHER                    2\n",
       "FAIL TO RETURN RENTAL PROPERTY                        2\n",
       "SIMPLE ASSAULT - ELDERLY                              2\n",
       "CDS IMPLMNT-SYNTH DEMEROL/METH                        2\n",
       "ROB KNIFE CUT CARJACK                                 2\n",
       "KIDNAPPING                                            2\n",
       "BAD CHECKS-MERCHANDISE/UNDER $300                     2\n",
       "AGG  ASSLT FIREARM OTHR DOMESTIC                      2\n",
       "CDS-MANU-SYNTH DEMEROL/METHADO                        2\n",
       "BURG FORCE-SCH/NIGHT                                  2\n",
       "ROB OTHER WEAPON - COMM                               2\n",
       "LARCENY COIN MACH UNDER $50                           2\n",
       "CDS IMPLMENT-HALLUC/LSD/PCP/ET                        2\n",
       "BAD CHECKS-CASH/OTHER UNDER $300                      2\n",
       "HOMELAND SECURITY EVENT                               2\n",
       "ESCAPEE                                               2\n",
       "EMBEZZLE/THEFT-UNDER $300 OTHER                       2\n",
       "LARCENY BICYCLE UNDER $50                             2\n",
       "ROB STN ARM - CONV. STORE                             2\n",
       "CDS-MANU INHALANT/GLUE/AEROSOL                        2\n",
       "HOME IMPROVEMENT VIOLATION                            2\n",
       "BAD CHECKS-LABOR/SERVICE UNDER $300                   2\n",
       "SEX  OFFENSE - INDECENT PHONE CALL                    2\n",
       "CDS-USE COCAINE& DERIVATIVES                          2\n",
       "ARSON UNDER INVEST - VEHICLE                          2\n",
       "CDS-MANU-HALLUC/LSD/PCP/ETC                           2\n",
       "ROB STRONG ARM CARJACK                                2\n",
       "WELFARE FRAUD                                         2\n",
       "CDS-POSS INHALANT/GLUE/AEROSOL                        1\n",
       "AGG ASSLT OTHER WPN ON ELDERLY                        1\n",
       "AGG  ASSLT BEAT/INJ P.O.                              1\n",
       "AGG ASSLT BEAT/INJ ELDERLY                            1\n",
       "CDS-MANU DRUG OVERDOSE NOT FATAL                      1\n",
       "LARCENY COIN MACH $50-$199                            1\n",
       "CDS IMPLMNT-BARBITUR/AMPHETAMI                        1\n",
       "SANE COLLECTION NON-STRANGER                          1\n",
       "HOMICIDE-OTHER                                        1\n",
       "ANIMAL OFFENSE - HOT CAR                              1\n",
       "SUDDEN DEATH DROWNING                                 1\n",
       "AGG ASSLT FIREARM P.O.                                1\n",
       "ROB KNIFE/CUT - CONV. STORE                           1\n",
       "CDS RX FORGERY INHALANT/GLUE/AEROS                    1\n",
       "VANDALISM POSSESSION GRAFFITI MATERIAL                1\n",
       "LARCENY COIN MACH OVER $200                           1\n",
       "TRAFFIC HAZARD                                        1\n",
       "ROB STN ARM - GAS/SVC STA                             1\n",
       "EMBEZZLE UNDER $300                                   1\n",
       "AGG  ASSLT CUT/STAB P.O.                              1\n",
       "ROB OTHER WEAPON GAS/SVC  STA                         1\n",
       "BURG FORCE-SCH/TIME UNK                               1\n",
       "BURG FORCE-SCH/DAY                                    1\n",
       "BURG NO FORCE - SCH/TIME UNK                          1\n",
       "PARKING OFFENSES                                      1\n",
       "VANDALISM GRAFFITI CHURCH/TEMP                        1\n",
       "ANIMAL NUISANCE/BARKING                               1\n",
       "BURG FORCE - ATTEMPT - SCH/NIGHT                      1\n",
       "SUICIDE-ATTEMPT-FIREARM                               1\n",
       "ABANDONED AUTO                                        1\n",
       "CDS-USE SYNTH DEMEROL/METADONE                        1\n",
       "Name: Class Description, dtype: int64"
      ]
     },
     "execution_count": 21,
     "metadata": {},
     "output_type": "execute_result"
    }
   ],
   "source": [
    "type_crime=data['Class Description'].value_counts()\n",
    "pd.options.display.max_rows=1000\n",
    "type_crime.head(1000)"
   ]
  },
  {
   "cell_type": "markdown",
   "metadata": {
    "collapsed": true
   },
   "source": [
    "Lets agree on some keywords that will be used to associate violent crimes. Keywords such as \"Assault, \"Asslt\" surely fits the bill. Others such as \"Rape, Homicide, Larceny\" etc also fit the bill. With these keywords, we determine the percentage of violent  to non-violent crimes"
   ]
  },
  {
   "cell_type": "code",
   "execution_count": 22,
   "metadata": {},
   "outputs": [
    {
     "name": "stdout",
     "output_type": "stream",
     "text": [
      "About 34% of crimes are violent in nature \n",
      ": Non-violent    65.080452\n",
      "Violent        34.919548\n",
      "Name: Violent crime, dtype: float64\n"
     ]
    }
   ],
   "source": [
    "data['Violent crime'] = data['Class Description'].str.contains(\n",
    "    'ASSAULT|ASSLT|RAPE|HOMICIDE|KNIFE|FIREARM|ARMED|ARSON|ROBBERY|LARCENY')\n",
    "\n",
    "data.loc[data[\"Violent crime\"]==True, 'Violent crime']=\"Violent\"\n",
    "\n",
    "data.loc[data[\"Violent crime\"]==False, 'Violent crime']=\"Non-violent\"\n",
    "\n",
    "data.value_counts=data[\"Violent crime\"].value_counts(normalize=True)*100\n",
    "\n",
    "print(\"About 34% of crimes are violent in nature \\n:\", data.value_counts.head())"
   ]
  },
  {
   "cell_type": "code",
   "execution_count": 23,
   "metadata": {},
   "outputs": [
    {
     "data": {
      "text/plain": [
       "0     Non-violent\n",
       "1     Non-violent\n",
       "2     Non-violent\n",
       "3     Non-violent\n",
       "4     Non-violent\n",
       "5     Non-violent\n",
       "6     Non-violent\n",
       "7     Non-violent\n",
       "8     Non-violent\n",
       "9     Non-violent\n",
       "10    Non-violent\n",
       "11    Non-violent\n",
       "12        Violent\n",
       "13        Violent\n",
       "14    Non-violent\n",
       "15    Non-violent\n",
       "Name: Violent crime, dtype: object"
      ]
     },
     "execution_count": 23,
     "metadata": {},
     "output_type": "execute_result"
    }
   ],
   "source": [
    "data[\"Violent crime\"].loc[0:15]"
   ]
  },
  {
   "cell_type": "markdown",
   "metadata": {
    "collapsed": true
   },
   "source": [
    "# Violent crimes by city"
   ]
  },
  {
   "cell_type": "markdown",
   "metadata": {
    "collapsed": true
   },
   "source": [
    "Let's figure out which cities these violent crimes are committed. Which city do you think would lead the pack?  Brookeville or Silver Spring? Let's see."
   ]
  },
  {
   "cell_type": "code",
   "execution_count": 24,
   "metadata": {},
   "outputs": [
    {
     "name": "stdout",
     "output_type": "stream",
     "text": [
      "SILVER SPRING         37.352941\n",
      "ROCKVILLE             14.816176\n",
      "GAITHERSBURG          13.713235\n",
      "BETHESDA               9.105392\n",
      "GERMANTOWN             8.700980\n",
      "CHEVY CHASE            3.002451\n",
      "MONTGOMERY VILLAGE     2.500000\n",
      "POTOMAC                2.071078\n",
      "KENSINGTON             1.960784\n",
      "OLNEY                  1.531863\n",
      "BURTONSVILLE           1.066176\n",
      "DERWOOD                0.955882\n",
      "CLARKSBURG             0.674020\n",
      "DAMASCUS               0.637255\n",
      "TAKOMA PARK            0.563725\n",
      "POOLESVILLE            0.343137\n",
      "BOYDS                  0.318627\n",
      "SANDY SPRING           0.171569\n",
      "BROOKEVILLE            0.171569\n",
      "CABIN JOHN             0.085784\n",
      "DICKERSON              0.085784\n",
      "ASHTON                 0.073529\n",
      "SPENCERVILLE           0.036765\n",
      "BRINKLOW               0.024510\n",
      "GLEN ECHO              0.012255\n",
      "BEALLSVILLE            0.012255\n",
      "KISSIMMEE              0.012255\n",
      "Name: City, dtype: float64\n"
     ]
    }
   ],
   "source": [
    "violent_crime=data[data[\"Violent crime\"]==\"Violent\"]\n",
    "print(violent_crime['City'].value_counts(normalize=True)*100)"
   ]
  },
  {
   "cell_type": "markdown",
   "metadata": {
    "collapsed": true
   },
   "source": [
    "Nothing does the job better than a graph. Let's make one"
   ]
  },
  {
   "cell_type": "code",
   "execution_count": 25,
   "metadata": {},
   "outputs": [
    {
     "data": {
      "image/png": "[encoded data removed]",
      "text/plain": [
       "<matplotlib.figure.Figure at 0x7feb6b1d24e0>"
      ]
     },
     "metadata": {},
     "output_type": "display_data"
    }
   ],
   "source": [
    "violent_crime_counts=violent_crime[\"City\"].value_counts(normalize=True)*100\n",
    "\n",
    "ax=violent_crime_counts.plot(kind='bar',x='City', figsize=(15,5))\n",
    "\n",
    "\n",
    "plt.grid(True)\n",
    "\n",
    "plt.title(\"Percentage of Violent Crimes by City\",fontsize=15)\n",
    "\n",
    "plt.xlabel(\"Cities\",fontsize=15)\n",
    "\n",
    "\n",
    "plt.ylabel('Violent Crimes Reported',fontsize=15)\n",
    "vals = ax.get_yticks()\n",
    "ax.set_yticklabels(['{:3.1f}%'.format(x) for x in vals])\n",
    "\n",
    "plt.show()"
   ]
  },
  {
   "cell_type": "markdown",
   "metadata": {
    "collapsed": true
   },
   "source": [
    "We can now calculate the population per capita and determine which city has the most violent crimes per capita"
   ]
  },
  {
   "cell_type": "code",
   "execution_count": 26,
   "metadata": {},
   "outputs": [
    {
     "data": {
      "text/html": [
       "<div>\n",
       "<table border=\"1\" class=\"dataframe\">\n",
       "  <thead>\n",
       "    <tr style=\"text-align: right;\">\n",
       "      <th></th>\n",
       "      <th>Violent Crimes per 100000 people</th>\n",
       "    </tr>\n",
       "    <tr>\n",
       "      <th>City</th>\n",
       "      <th></th>\n",
       "    </tr>\n",
       "  </thead>\n",
       "  <tbody>\n",
       "    <tr>\n",
       "      <th>CHEVY CHASE</th>\n",
       "      <td>101.468435</td>\n",
       "    </tr>\n",
       "    <tr>\n",
       "      <th>BETHESDA</th>\n",
       "      <td>14.961701</td>\n",
       "    </tr>\n",
       "    <tr>\n",
       "      <th>MONTGOMERY VILLAGE</th>\n",
       "      <td>7.804695</td>\n",
       "    </tr>\n",
       "    <tr>\n",
       "      <th>GERMANTOWN</th>\n",
       "      <td>9.595682</td>\n",
       "    </tr>\n",
       "    <tr>\n",
       "      <th>BROOKEVILLE</th>\n",
       "      <td>128.036289</td>\n",
       "    </tr>\n",
       "    <tr>\n",
       "      <th>KENSINGTON</th>\n",
       "      <td>84.772344</td>\n",
       "    </tr>\n",
       "    <tr>\n",
       "      <th>POTOMAC</th>\n",
       "      <td>4.605979</td>\n",
       "    </tr>\n",
       "    <tr>\n",
       "      <th>DICKERSON</th>\n",
       "      <td>4.642008</td>\n",
       "    </tr>\n",
       "    <tr>\n",
       "      <th>BURTONSVILLE</th>\n",
       "      <td>7.989932</td>\n",
       "    </tr>\n",
       "    <tr>\n",
       "      <th>DAMASCUS</th>\n",
       "      <td>5.575283</td>\n",
       "    </tr>\n",
       "    <tr>\n",
       "      <th>CLARKSBURG</th>\n",
       "      <td>4.928125</td>\n",
       "    </tr>\n",
       "    <tr>\n",
       "      <th>SILVER SPRING</th>\n",
       "      <td>52.276971</td>\n",
       "    </tr>\n",
       "    <tr>\n",
       "      <th>POOLESVILLE</th>\n",
       "      <td>6.649947</td>\n",
       "    </tr>\n",
       "    <tr>\n",
       "      <th>GAITHERSBURG</th>\n",
       "      <td>20.523879</td>\n",
       "    </tr>\n",
       "    <tr>\n",
       "      <th>ROCKVILLE</th>\n",
       "      <td>24.205879</td>\n",
       "    </tr>\n",
       "    <tr>\n",
       "      <th>SANDY SPRING</th>\n",
       "      <td>3.037688</td>\n",
       "    </tr>\n",
       "    <tr>\n",
       "      <th>OLNEY</th>\n",
       "      <td>4.526246</td>\n",
       "    </tr>\n",
       "    <tr>\n",
       "      <th>DERWOOD</th>\n",
       "      <td>6.127451</td>\n",
       "    </tr>\n",
       "    <tr>\n",
       "      <th>BOYDS</th>\n",
       "      <td>3.046152</td>\n",
       "    </tr>\n",
       "    <tr>\n",
       "      <th>ASHTON</th>\n",
       "      <td>1.301866</td>\n",
       "    </tr>\n",
       "    <tr>\n",
       "      <th>TAKOMA PARK</th>\n",
       "      <td>3.190297</td>\n",
       "    </tr>\n",
       "  </tbody>\n",
       "</table>\n",
       "</div>"
      ],
      "text/plain": [
       "                    Violent Crimes per 100000 people\n",
       "City                                                \n",
       "CHEVY CHASE                               101.468435\n",
       "BETHESDA                                   14.961701\n",
       "MONTGOMERY VILLAGE                          7.804695\n",
       "GERMANTOWN                                  9.595682\n",
       "BROOKEVILLE                               128.036289\n",
       "KENSINGTON                                 84.772344\n",
       "POTOMAC                                     4.605979\n",
       "DICKERSON                                   4.642008\n",
       "BURTONSVILLE                                7.989932\n",
       "DAMASCUS                                    5.575283\n",
       "CLARKSBURG                                  4.928125\n",
       "SILVER SPRING                              52.276971\n",
       "POOLESVILLE                                 6.649947\n",
       "GAITHERSBURG                               20.523879\n",
       "ROCKVILLE                                  24.205879\n",
       "SANDY SPRING                                3.037688\n",
       "OLNEY                                       4.526246\n",
       "DERWOOD                                     6.127451\n",
       "BOYDS                                       3.046152\n",
       "ASHTON                                      1.301866\n",
       "TAKOMA PARK                                 3.190297"
      ]
     },
     "execution_count": 26,
     "metadata": {},
     "output_type": "execute_result"
    }
   ],
   "source": [
    "pop_by_city_2 = {'SILVER SPRING': 71452,'ROCKVILLE': 61209,'GAITHERSBURG': 66816, 'GERMANTOWN': 90676, \n",
    "              'BETHESDA': 60858,'MONTGOMERY VILLAGE': 32032, 'POTOMAC': 44965, 'CHEVY CHASE': 2959, \n",
    "              'OLNEY': 33844,'KENSINGTON': 2313,'BURTONSVILLE':13344,'DERWOOD':15600,'DAMASCUS':11430,\n",
    "              'CLARKSBURG':13677,'TAKOMA PARK':17670,'POOLESVILLE':5160,'BOYDS':10460,'BROOKEVILLE':134,\n",
    "              'SANDY SPRING':5648,'DICKERSON':1848,'ASHTON':5648} \n",
    "\n",
    "violent_crime_per_capita = {}\n",
    "\n",
    "violent_crime_per_capita = {city: (violent_crime_counts.loc[city]/pop)*100000 for (city, pop) in pop_by_city_2.items()}\n",
    "\n",
    "violent_crimes_per_100000_people = pd.DataFrame({'City': list(violent_crime_per_capita.keys()), \n",
    "              'Violent Crimes per 100000 people': list(violent_crime_per_capita.values())})\n",
    "violent_crimes_per_100000_people = violent_crimes_per_100000_people.set_index('City')\n",
    "violent_crimes_per_100000_people.head(30)"
   ]
  },
  {
   "cell_type": "markdown",
   "metadata": {
    "collapsed": true
   },
   "source": [
    "Let's generate a plot of the above table"
   ]
  },
  {
   "cell_type": "code",
   "execution_count": 27,
   "metadata": {},
   "outputs": [
    {
     "data": {
      "image/png": "[encoded data removed]",
      "text/plain": [
       "<matplotlib.figure.Figure at 0x7feb6b101400>"
      ]
     },
     "metadata": {},
     "output_type": "display_data"
    }
   ],
   "source": [
    "violent_crimes_per_100000_people.sort_values('Violent Crimes per 100000 people',ascending=False, inplace=True)\n",
    "violent_crimes_per_100000_people.plot(kind='bar',figsize=(15,5),legend=None)\n",
    "\n",
    "\n",
    "plt.grid(True)\n",
    "\n",
    "plt.title(\"Violent Crimes per Capita Reported by City\",color='black',fontsize=20)\n",
    "\n",
    "plt.xlabel(\"Cities\", color='black',fontsize=20)\n",
    "plt.xticks(color='black')\n",
    "\n",
    "plt.ylabel('Violent Crimes Reported per Capita', color='black',fontsize=20)\n",
    "plt.yticks(color='black')\n",
    "\n",
    "plt.show()"
   ]
  },
  {
   "cell_type": "markdown",
   "metadata": {
    "collapsed": true
   },
   "source": [
    "# Let's have a look at the violent crimes committed over a 24hour  period\n"
   ]
  },
  {
   "cell_type": "code",
   "execution_count": 41,
   "metadata": {},
   "outputs": [
    {
     "name": "stdout",
     "output_type": "stream",
     "text": [
      "Respectively \n",
      " Day      13813\n",
      "Night     9555\n",
      "Name: Dispatch Date / Time, dtype: int64 are the number of crimes\n"
     ]
    }
   ],
   "source": [
    "hr_violent_crime=data[\"Dispatch Date / Time\"].dt.hour\n",
    "day_violent_crime= (hr_violent_crime >=6) & (hr_violent_crime <18)\n",
    "day_violent_crime.value_counts=day_crime.value_counts()\n",
    "day_violent_crime.value_counts.index=[\"Day\", \"Night\"]\n",
    "\n",
    "print(\"Respectively\", \"\\n\", day_violent_crime.value_counts,  \"are the number of crimes\")"
   ]
  },
  {
   "cell_type": "markdown",
   "metadata": {},
   "source": [
    "As can be seen, most violent crimes are reported during the day. Let's probe further using 6hours windows."
   ]
  },
  {
   "cell_type": "code",
   "execution_count": 42,
   "metadata": {},
   "outputs": [
    {
     "name": "stdout",
     "output_type": "stream",
     "text": [
      "Crimes by 6 hour intervals: \n",
      " {'Afternoon': 3269, 'Evening': 6971, 'Night': 6842, 'Morning': 6286}\n"
     ]
    }
   ],
   "source": [
    "violent_crime_6hrs={\"Night\": '', \"Morning\": '', \"Afternoon\": '', \"Evening\": ''}\n",
    "\n",
    "i=0\n",
    "\n",
    "for item in violent_crime_6hrs:\n",
    "    violent_crime_6hrs[item]=hr_violent_crime[ (hour_crime >=i) & (hr_violent_crime < i+6) ].shape[0]\n",
    "    i+=6\n",
    "    \n",
    "print(\"Crimes by 6 hour intervals: \\n\", violent_crime_6hrs)    "
   ]
  },
  {
   "cell_type": "markdown",
   "metadata": {},
   "source": [
    "A picture is worth a thousand words. Let's vizualize this result"
   ]
  },
  {
   "cell_type": "code",
   "execution_count": 43,
   "metadata": {},
   "outputs": [
    {
     "data": {
      "image/png": "[encoded data removed]",
      "text/plain": [
       "<matplotlib.figure.Figure at 0x7feb73486320>"
      ]
     },
     "metadata": {},
     "output_type": "display_data"
    }
   ],
   "source": [
    "colors=['gold', 'yellowgreen', 'lightcoral','lightskyblue']\n",
    "explode = (0, 0.1, 0, 0)\n",
    "plt.pie([val for val in violent_crime_6hrs.values()],explode=explode, labels=[k for k in violent_crime_6hrs.keys()], colors=colors,\n",
    "        autopct='%1.1f%%', shadow=True, startangle=140)\n",
    "plt.axis('equal')\n",
    "plt.title('Breakdown of 6 Hour Intervals for Violent Crime', y=1.14,fontsize=20)\n",
    "plt.show()"
   ]
  },
  {
   "cell_type": "markdown",
   "metadata": {},
   "source": [
    "Clearly,  its most dangerous to be out in Montgomery County in the evenings and at night"
   ]
  },
  {
   "cell_type": "code",
   "execution_count": null,
   "metadata": {
    "collapsed": true
   },
   "outputs": [],
   "source": []
  },
  {
   "cell_type": "code",
   "execution_count": null,
   "metadata": {
    "collapsed": true
   },
   "outputs": [],
   "source": []
  },
  {
   "cell_type": "code",
   "execution_count": null,
   "metadata": {
    "collapsed": true
   },
   "outputs": [],
   "source": []
  },
  {
   "cell_type": "code",
   "execution_count": null,
   "metadata": {
    "collapsed": true
   },
   "outputs": [],
   "source": []
  },
  {
   "cell_type": "code",
   "execution_count": null,
   "metadata": {
    "collapsed": true
   },
   "outputs": [],
   "source": []
  },
  {
   "cell_type": "code",
   "execution_count": null,
   "metadata": {
    "collapsed": true
   },
   "outputs": [],
   "source": []
  },
  {
   "cell_type": "code",
   "execution_count": null,
   "metadata": {
    "collapsed": true
   },
   "outputs": [],
   "source": []
  },
  {
   "cell_type": "code",
   "execution_count": null,
   "metadata": {
    "collapsed": true
   },
   "outputs": [],
   "source": []
  },
  {
   "cell_type": "code",
   "execution_count": null,
   "metadata": {
    "collapsed": true
   },
   "outputs": [],
   "source": []
  },
  {
   "cell_type": "code",
   "execution_count": null,
   "metadata": {
    "collapsed": true
   },
   "outputs": [],
   "source": []
  },
  {
   "cell_type": "code",
   "execution_count": null,
   "metadata": {
    "collapsed": true
   },
   "outputs": [],
   "source": []
  },
  {
   "cell_type": "code",
   "execution_count": null,
   "metadata": {
    "collapsed": true
   },
   "outputs": [],
   "source": []
  },
  {
   "cell_type": "code",
   "execution_count": null,
   "metadata": {
    "collapsed": true
   },
   "outputs": [],
   "source": []
  },
  {
   "cell_type": "code",
   "execution_count": null,
   "metadata": {
    "collapsed": true
   },
   "outputs": [],
   "source": []
  },
  {
   "cell_type": "code",
   "execution_count": null,
   "metadata": {
    "collapsed": true
   },
   "outputs": [],
   "source": []
  },
  {
   "cell_type": "code",
   "execution_count": null,
   "metadata": {
    "collapsed": true
   },
   "outputs": [],
   "source": []
  },
  {
   "cell_type": "code",
   "execution_count": null,
   "metadata": {
    "collapsed": true
   },
   "outputs": [],
   "source": []
  },
  {
   "cell_type": "code",
   "execution_count": null,
   "metadata": {
    "collapsed": true
   },
   "outputs": [],
   "source": []
  },
  {
   "cell_type": "code",
   "execution_count": null,
   "metadata": {
    "collapsed": true
   },
   "outputs": [],
   "source": []
  },
  {
   "cell_type": "code",
   "execution_count": null,
   "metadata": {
    "collapsed": true
   },
   "outputs": [],
   "source": []
  },
  {
   "cell_type": "code",
   "execution_count": null,
   "metadata": {
    "collapsed": true
   },
   "outputs": [],
   "source": []
  },
  {
   "cell_type": "code",
   "execution_count": null,
   "metadata": {
    "collapsed": true
   },
   "outputs": [],
   "source": []
  },
  {
   "cell_type": "code",
   "execution_count": null,
   "metadata": {
    "collapsed": true
   },
   "outputs": [],
   "source": []
  },
  {
   "cell_type": "code",
   "execution_count": null,
   "metadata": {
    "collapsed": true
   },
   "outputs": [],
   "source": []
  },
  {
   "cell_type": "code",
   "execution_count": null,
   "metadata": {
    "collapsed": true
   },
   "outputs": [],
   "source": []
  },
  {
   "cell_type": "code",
   "execution_count": null,
   "metadata": {
    "collapsed": true
   },
   "outputs": [],
   "source": []
  },
  {
   "cell_type": "code",
   "execution_count": null,
   "metadata": {
    "collapsed": true
   },
   "outputs": [],
   "source": []
  },
  {
   "cell_type": "code",
   "execution_count": null,
   "metadata": {
    "collapsed": true
   },
   "outputs": [],
   "source": []
  },
  {
   "cell_type": "code",
   "execution_count": null,
   "metadata": {
    "collapsed": true
   },
   "outputs": [],
   "source": []
  },
  {
   "cell_type": "code",
   "execution_count": null,
   "metadata": {
    "collapsed": true
   },
   "outputs": [],
   "source": []
  },
  {
   "cell_type": "code",
   "execution_count": null,
   "metadata": {
    "collapsed": true
   },
   "outputs": [],
   "source": []
  },
  {
   "cell_type": "code",
   "execution_count": null,
   "metadata": {
    "collapsed": true
   },
   "outputs": [],
   "source": []
  },
  {
   "cell_type": "code",
   "execution_count": null,
   "metadata": {
    "collapsed": true
   },
   "outputs": [],
   "source": []
  }
 ],
 "metadata": {
  "kernelspec": {
   "display_name": "Python 3",
   "language": "python",
   "name": "python3"
  },
  "language_info": {
   "codemirror_mode": {
    "name": "ipython",
    "version": 3
   },
   "file_extension": ".py",
   "mimetype": "text/x-python",
   "name": "python",
   "nbconvert_exporter": "python",
   "pygments_lexer": "ipython3",
   "version": "3.4.3"
  }
 },
 "nbformat": 4,
 "nbformat_minor": 2
}
