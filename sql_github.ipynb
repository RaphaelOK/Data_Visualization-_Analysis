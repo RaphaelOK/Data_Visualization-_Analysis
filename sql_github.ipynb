{
 "cells": [
  {
   "cell_type": "code",
   "execution_count": 5,
   "metadata": {
    "collapsed": true
   },
   "outputs": [],
   "source": [
    "import pandas as pd\n",
    "import sqlite3 "
   ]
  },
  {
   "cell_type": "code",
   "execution_count": 6,
   "metadata": {
    "collapsed": true
   },
   "outputs": [],
   "source": [
    "db=sqlite3.connect(\"hubway.db\")\n"
   ]
  },
  {
   "cell_type": "code",
   "execution_count": 7,
   "metadata": {
    "collapsed": true
   },
   "outputs": [],
   "source": [
    "def run_query(query):\n",
    "    return pd.read_sql_query(query,db)"
   ]
  },
  {
   "cell_type": "code",
   "execution_count": 12,
   "metadata": {
    "collapsed": true
   },
   "outputs": [],
   "source": [
    "#selects all the columns from the trips table. * is a wild card indicating we want all the \n",
    "#columns. Limit 5 means we only want 5 rows.\n",
    "query=\"SELECT * FROM trips LIMIT 5;\""
   ]
  },
  {
   "cell_type": "code",
   "execution_count": 13,
   "metadata": {},
   "outputs": [
    {
     "data": {
      "text/html": [
       "<div>\n",
       "<table border=\"1\" class=\"dataframe\">\n",
       "  <thead>\n",
       "    <tr style=\"text-align: right;\">\n",
       "      <th></th>\n",
       "      <th>id</th>\n",
       "      <th>duration</th>\n",
       "      <th>start_date</th>\n",
       "      <th>start_station</th>\n",
       "      <th>end_date</th>\n",
       "      <th>end_station</th>\n",
       "      <th>bike_number</th>\n",
       "      <th>sub_type</th>\n",
       "      <th>zip_code</th>\n",
       "      <th>birth_date</th>\n",
       "      <th>gender</th>\n",
       "    </tr>\n",
       "  </thead>\n",
       "  <tbody>\n",
       "    <tr>\n",
       "      <th>0</th>\n",
       "      <td>1</td>\n",
       "      <td>9</td>\n",
       "      <td>2011-07-28 10:12:00</td>\n",
       "      <td>23</td>\n",
       "      <td>2011-07-28 10:12:00</td>\n",
       "      <td>23</td>\n",
       "      <td>B00468</td>\n",
       "      <td>Registered</td>\n",
       "      <td>'97217</td>\n",
       "      <td>1976.0</td>\n",
       "      <td>Male</td>\n",
       "    </tr>\n",
       "    <tr>\n",
       "      <th>1</th>\n",
       "      <td>2</td>\n",
       "      <td>220</td>\n",
       "      <td>2011-07-28 10:21:00</td>\n",
       "      <td>23</td>\n",
       "      <td>2011-07-28 10:25:00</td>\n",
       "      <td>23</td>\n",
       "      <td>B00554</td>\n",
       "      <td>Registered</td>\n",
       "      <td>'02215</td>\n",
       "      <td>1966.0</td>\n",
       "      <td>Male</td>\n",
       "    </tr>\n",
       "    <tr>\n",
       "      <th>2</th>\n",
       "      <td>3</td>\n",
       "      <td>56</td>\n",
       "      <td>2011-07-28 10:33:00</td>\n",
       "      <td>23</td>\n",
       "      <td>2011-07-28 10:34:00</td>\n",
       "      <td>23</td>\n",
       "      <td>B00456</td>\n",
       "      <td>Registered</td>\n",
       "      <td>'02108</td>\n",
       "      <td>1943.0</td>\n",
       "      <td>Male</td>\n",
       "    </tr>\n",
       "    <tr>\n",
       "      <th>3</th>\n",
       "      <td>4</td>\n",
       "      <td>64</td>\n",
       "      <td>2011-07-28 10:35:00</td>\n",
       "      <td>23</td>\n",
       "      <td>2011-07-28 10:36:00</td>\n",
       "      <td>23</td>\n",
       "      <td>B00554</td>\n",
       "      <td>Registered</td>\n",
       "      <td>'02116</td>\n",
       "      <td>1981.0</td>\n",
       "      <td>Female</td>\n",
       "    </tr>\n",
       "    <tr>\n",
       "      <th>4</th>\n",
       "      <td>5</td>\n",
       "      <td>12</td>\n",
       "      <td>2011-07-28 10:37:00</td>\n",
       "      <td>23</td>\n",
       "      <td>2011-07-28 10:37:00</td>\n",
       "      <td>23</td>\n",
       "      <td>B00554</td>\n",
       "      <td>Registered</td>\n",
       "      <td>'97214</td>\n",
       "      <td>1983.0</td>\n",
       "      <td>Female</td>\n",
       "    </tr>\n",
       "  </tbody>\n",
       "</table>\n",
       "</div>"
      ],
      "text/plain": [
       "   id  duration           start_date  start_station             end_date  \\\n",
       "0   1         9  2011-07-28 10:12:00             23  2011-07-28 10:12:00   \n",
       "1   2       220  2011-07-28 10:21:00             23  2011-07-28 10:25:00   \n",
       "2   3        56  2011-07-28 10:33:00             23  2011-07-28 10:34:00   \n",
       "3   4        64  2011-07-28 10:35:00             23  2011-07-28 10:36:00   \n",
       "4   5        12  2011-07-28 10:37:00             23  2011-07-28 10:37:00   \n",
       "\n",
       "   end_station bike_number    sub_type zip_code  birth_date  gender  \n",
       "0           23      B00468  Registered   '97217      1976.0    Male  \n",
       "1           23      B00554  Registered   '02215      1966.0    Male  \n",
       "2           23      B00456  Registered   '02108      1943.0    Male  \n",
       "3           23      B00554  Registered   '02116      1981.0  Female  \n",
       "4           23      B00554  Registered   '97214      1983.0  Female  "
      ]
     },
     "execution_count": 13,
     "metadata": {},
     "output_type": "execute_result"
    }
   ],
   "source": [
    "run_query(query)"
   ]
  },
  {
   "cell_type": "code",
   "execution_count": 16,
   "metadata": {
    "collapsed": true
   },
   "outputs": [],
   "source": [
    "#Suppose we want to see specific columns we do\n",
    "\n",
    "query=\"SELECT duration, start_date FROM trips LIMIT 5;\"\n"
   ]
  },
  {
   "cell_type": "code",
   "execution_count": 17,
   "metadata": {},
   "outputs": [
    {
     "data": {
      "text/html": [
       "<div>\n",
       "<table border=\"1\" class=\"dataframe\">\n",
       "  <thead>\n",
       "    <tr style=\"text-align: right;\">\n",
       "      <th></th>\n",
       "      <th>duration</th>\n",
       "      <th>start_date</th>\n",
       "    </tr>\n",
       "  </thead>\n",
       "  <tbody>\n",
       "    <tr>\n",
       "      <th>0</th>\n",
       "      <td>9</td>\n",
       "      <td>2011-07-28 10:12:00</td>\n",
       "    </tr>\n",
       "    <tr>\n",
       "      <th>1</th>\n",
       "      <td>220</td>\n",
       "      <td>2011-07-28 10:21:00</td>\n",
       "    </tr>\n",
       "    <tr>\n",
       "      <th>2</th>\n",
       "      <td>56</td>\n",
       "      <td>2011-07-28 10:33:00</td>\n",
       "    </tr>\n",
       "    <tr>\n",
       "      <th>3</th>\n",
       "      <td>64</td>\n",
       "      <td>2011-07-28 10:35:00</td>\n",
       "    </tr>\n",
       "    <tr>\n",
       "      <th>4</th>\n",
       "      <td>12</td>\n",
       "      <td>2011-07-28 10:37:00</td>\n",
       "    </tr>\n",
       "  </tbody>\n",
       "</table>\n",
       "</div>"
      ],
      "text/plain": [
       "   duration           start_date\n",
       "0         9  2011-07-28 10:12:00\n",
       "1       220  2011-07-28 10:21:00\n",
       "2        56  2011-07-28 10:33:00\n",
       "3        64  2011-07-28 10:35:00\n",
       "4        12  2011-07-28 10:37:00"
      ]
     },
     "execution_count": 17,
     "metadata": {},
     "output_type": "execute_result"
    }
   ],
   "source": [
    "run_query(query)"
   ]
  },
  {
   "cell_type": "code",
   "execution_count": 19,
   "metadata": {},
   "outputs": [
    {
     "data": {
      "text/html": [
       "<div>\n",
       "<table border=\"1\" class=\"dataframe\">\n",
       "  <thead>\n",
       "    <tr style=\"text-align: right;\">\n",
       "      <th></th>\n",
       "      <th>duration</th>\n",
       "    </tr>\n",
       "  </thead>\n",
       "  <tbody>\n",
       "    <tr>\n",
       "      <th>0</th>\n",
       "      <td>9999</td>\n",
       "    </tr>\n",
       "    <tr>\n",
       "      <th>1</th>\n",
       "      <td>9998</td>\n",
       "    </tr>\n",
       "    <tr>\n",
       "      <th>2</th>\n",
       "      <td>9998</td>\n",
       "    </tr>\n",
       "    <tr>\n",
       "      <th>3</th>\n",
       "      <td>9997</td>\n",
       "    </tr>\n",
       "    <tr>\n",
       "      <th>4</th>\n",
       "      <td>9996</td>\n",
       "    </tr>\n",
       "  </tbody>\n",
       "</table>\n",
       "</div>"
      ],
      "text/plain": [
       "   duration\n",
       "0      9999\n",
       "1      9998\n",
       "2      9998\n",
       "3      9997\n",
       "4      9996"
      ]
     },
     "execution_count": 19,
     "metadata": {},
     "output_type": "execute_result"
    }
   ],
   "source": [
    "#ORDER BY.\n",
    "\n",
    "query='''\n",
    "SELECT duration\n",
    "FROM trips\n",
    "ORDER BY duration DESC\n",
    "LIMIT 5;\n",
    "'''\n",
    "\n",
    "run_query(query)\n",
    "\n"
   ]
  },
  {
   "cell_type": "code",
   "execution_count": 20,
   "metadata": {},
   "outputs": [
    {
     "data": {
      "text/html": [
       "<div>\n",
       "<table border=\"1\" class=\"dataframe\">\n",
       "  <thead>\n",
       "    <tr style=\"text-align: right;\">\n",
       "      <th></th>\n",
       "      <th>id</th>\n",
       "      <th>duration</th>\n",
       "      <th>start_date</th>\n",
       "      <th>start_station</th>\n",
       "      <th>end_date</th>\n",
       "      <th>end_station</th>\n",
       "      <th>bike_number</th>\n",
       "      <th>sub_type</th>\n",
       "      <th>zip_code</th>\n",
       "      <th>birth_date</th>\n",
       "      <th>gender</th>\n",
       "    </tr>\n",
       "  </thead>\n",
       "  <tbody>\n",
       "    <tr>\n",
       "      <th>0</th>\n",
       "      <td>4768</td>\n",
       "      <td>9994</td>\n",
       "      <td>2011-08-03 17:16:00</td>\n",
       "      <td>22</td>\n",
       "      <td>2011-08-03 20:03:00</td>\n",
       "      <td>24</td>\n",
       "      <td>B00002</td>\n",
       "      <td>Casual</td>\n",
       "      <td></td>\n",
       "      <td></td>\n",
       "      <td></td>\n",
       "    </tr>\n",
       "    <tr>\n",
       "      <th>1</th>\n",
       "      <td>8448</td>\n",
       "      <td>9991</td>\n",
       "      <td>2011-08-06 13:02:00</td>\n",
       "      <td>52</td>\n",
       "      <td>2011-08-06 15:48:00</td>\n",
       "      <td>24</td>\n",
       "      <td>B00174</td>\n",
       "      <td>Casual</td>\n",
       "      <td></td>\n",
       "      <td></td>\n",
       "      <td></td>\n",
       "    </tr>\n",
       "    <tr>\n",
       "      <th>2</th>\n",
       "      <td>11341</td>\n",
       "      <td>9998</td>\n",
       "      <td>2011-08-09 10:42:00</td>\n",
       "      <td>40</td>\n",
       "      <td>2011-08-09 13:29:00</td>\n",
       "      <td>42</td>\n",
       "      <td>B00513</td>\n",
       "      <td>Casual</td>\n",
       "      <td></td>\n",
       "      <td></td>\n",
       "      <td></td>\n",
       "    </tr>\n",
       "    <tr>\n",
       "      <th>3</th>\n",
       "      <td>24455</td>\n",
       "      <td>9995</td>\n",
       "      <td>2011-08-20 12:20:00</td>\n",
       "      <td>52</td>\n",
       "      <td>2011-08-20 15:07:00</td>\n",
       "      <td>17</td>\n",
       "      <td>B00552</td>\n",
       "      <td>Casual</td>\n",
       "      <td></td>\n",
       "      <td></td>\n",
       "      <td></td>\n",
       "    </tr>\n",
       "    <tr>\n",
       "      <th>4</th>\n",
       "      <td>55771</td>\n",
       "      <td>9994</td>\n",
       "      <td>2011-09-14 15:44:00</td>\n",
       "      <td>40</td>\n",
       "      <td>2011-09-14 18:30:00</td>\n",
       "      <td>40</td>\n",
       "      <td>B00139</td>\n",
       "      <td>Casual</td>\n",
       "      <td></td>\n",
       "      <td></td>\n",
       "      <td></td>\n",
       "    </tr>\n",
       "    <tr>\n",
       "      <th>5</th>\n",
       "      <td>81191</td>\n",
       "      <td>9993</td>\n",
       "      <td>2011-10-03 11:30:00</td>\n",
       "      <td>22</td>\n",
       "      <td>2011-10-03 14:16:00</td>\n",
       "      <td>36</td>\n",
       "      <td>B00474</td>\n",
       "      <td>Casual</td>\n",
       "      <td></td>\n",
       "      <td></td>\n",
       "      <td></td>\n",
       "    </tr>\n",
       "    <tr>\n",
       "      <th>6</th>\n",
       "      <td>89335</td>\n",
       "      <td>9997</td>\n",
       "      <td>2011-10-09 02:30:00</td>\n",
       "      <td>60</td>\n",
       "      <td>2011-10-09 05:17:00</td>\n",
       "      <td>45</td>\n",
       "      <td>B00047</td>\n",
       "      <td>Casual</td>\n",
       "      <td></td>\n",
       "      <td></td>\n",
       "      <td></td>\n",
       "    </tr>\n",
       "    <tr>\n",
       "      <th>7</th>\n",
       "      <td>124500</td>\n",
       "      <td>9992</td>\n",
       "      <td>2011-11-09 09:08:00</td>\n",
       "      <td>22</td>\n",
       "      <td>2011-11-09 11:55:00</td>\n",
       "      <td>40</td>\n",
       "      <td>B00387</td>\n",
       "      <td>Casual</td>\n",
       "      <td></td>\n",
       "      <td></td>\n",
       "      <td></td>\n",
       "    </tr>\n",
       "    <tr>\n",
       "      <th>8</th>\n",
       "      <td>133967</td>\n",
       "      <td>9996</td>\n",
       "      <td>2011-11-19 13:48:00</td>\n",
       "      <td>4</td>\n",
       "      <td>2011-11-19 16:35:00</td>\n",
       "      <td>58</td>\n",
       "      <td>B00238</td>\n",
       "      <td>Casual</td>\n",
       "      <td></td>\n",
       "      <td></td>\n",
       "      <td></td>\n",
       "    </tr>\n",
       "    <tr>\n",
       "      <th>9</th>\n",
       "      <td>147451</td>\n",
       "      <td>9996</td>\n",
       "      <td>2012-03-23 14:48:00</td>\n",
       "      <td>35</td>\n",
       "      <td>2012-03-23 17:35:00</td>\n",
       "      <td>33</td>\n",
       "      <td>B00550</td>\n",
       "      <td>Casual</td>\n",
       "      <td></td>\n",
       "      <td></td>\n",
       "      <td></td>\n",
       "    </tr>\n",
       "    <tr>\n",
       "      <th>10</th>\n",
       "      <td>315737</td>\n",
       "      <td>9995</td>\n",
       "      <td>2012-07-03 18:28:00</td>\n",
       "      <td>12</td>\n",
       "      <td>2012-07-03 21:15:00</td>\n",
       "      <td>12</td>\n",
       "      <td>B00250</td>\n",
       "      <td>Registered</td>\n",
       "      <td>'02120</td>\n",
       "      <td>1964</td>\n",
       "      <td>Male</td>\n",
       "    </tr>\n",
       "    <tr>\n",
       "      <th>11</th>\n",
       "      <td>319597</td>\n",
       "      <td>9994</td>\n",
       "      <td>2012-07-05 11:49:00</td>\n",
       "      <td>52</td>\n",
       "      <td>2012-07-05 14:35:00</td>\n",
       "      <td>55</td>\n",
       "      <td>B00237</td>\n",
       "      <td>Casual</td>\n",
       "      <td></td>\n",
       "      <td></td>\n",
       "      <td></td>\n",
       "    </tr>\n",
       "    <tr>\n",
       "      <th>12</th>\n",
       "      <td>416523</td>\n",
       "      <td>9998</td>\n",
       "      <td>2012-08-15 12:11:00</td>\n",
       "      <td>54</td>\n",
       "      <td>2012-08-15 14:58:00</td>\n",
       "      <td>80</td>\n",
       "      <td>B00188</td>\n",
       "      <td>Casual</td>\n",
       "      <td></td>\n",
       "      <td></td>\n",
       "      <td></td>\n",
       "    </tr>\n",
       "    <tr>\n",
       "      <th>13</th>\n",
       "      <td>541247</td>\n",
       "      <td>9999</td>\n",
       "      <td>2012-09-26 18:34:00</td>\n",
       "      <td>54</td>\n",
       "      <td>2012-09-26 21:21:00</td>\n",
       "      <td>54</td>\n",
       "      <td>T01078</td>\n",
       "      <td>Casual</td>\n",
       "      <td></td>\n",
       "      <td></td>\n",
       "      <td></td>\n",
       "    </tr>\n",
       "  </tbody>\n",
       "</table>\n",
       "</div>"
      ],
      "text/plain": [
       "        id  duration           start_date  start_station             end_date  \\\n",
       "0     4768      9994  2011-08-03 17:16:00             22  2011-08-03 20:03:00   \n",
       "1     8448      9991  2011-08-06 13:02:00             52  2011-08-06 15:48:00   \n",
       "2    11341      9998  2011-08-09 10:42:00             40  2011-08-09 13:29:00   \n",
       "3    24455      9995  2011-08-20 12:20:00             52  2011-08-20 15:07:00   \n",
       "4    55771      9994  2011-09-14 15:44:00             40  2011-09-14 18:30:00   \n",
       "5    81191      9993  2011-10-03 11:30:00             22  2011-10-03 14:16:00   \n",
       "6    89335      9997  2011-10-09 02:30:00             60  2011-10-09 05:17:00   \n",
       "7   124500      9992  2011-11-09 09:08:00             22  2011-11-09 11:55:00   \n",
       "8   133967      9996  2011-11-19 13:48:00              4  2011-11-19 16:35:00   \n",
       "9   147451      9996  2012-03-23 14:48:00             35  2012-03-23 17:35:00   \n",
       "10  315737      9995  2012-07-03 18:28:00             12  2012-07-03 21:15:00   \n",
       "11  319597      9994  2012-07-05 11:49:00             52  2012-07-05 14:35:00   \n",
       "12  416523      9998  2012-08-15 12:11:00             54  2012-08-15 14:58:00   \n",
       "13  541247      9999  2012-09-26 18:34:00             54  2012-09-26 21:21:00   \n",
       "\n",
       "    end_station bike_number    sub_type zip_code birth_date gender  \n",
       "0            24      B00002      Casual                             \n",
       "1            24      B00174      Casual                             \n",
       "2            42      B00513      Casual                             \n",
       "3            17      B00552      Casual                             \n",
       "4            40      B00139      Casual                             \n",
       "5            36      B00474      Casual                             \n",
       "6            45      B00047      Casual                             \n",
       "7            40      B00387      Casual                             \n",
       "8            58      B00238      Casual                             \n",
       "9            33      B00550      Casual                             \n",
       "10           12      B00250  Registered   '02120       1964   Male  \n",
       "11           55      B00237      Casual                             \n",
       "12           80      B00188      Casual                             \n",
       "13           54      T01078      Casual                             "
      ]
     },
     "execution_count": 20,
     "metadata": {},
     "output_type": "execute_result"
    }
   ],
   "source": [
    "#WHERE .\n",
    "\n",
    "#This command helps you look into a particlular slice of your data\n",
    "\n",
    "#Lets query the db using WHERE such that it returns data from the trip table\n",
    "#of all bike rides greater than 9990 seconds\n",
    "\n",
    "query='''\n",
    "SELECT *\n",
    "FROM trips\n",
    "WHERE duration > 9990;\n",
    "'''\n",
    "\n",
    "run_query(query)"
   ]
  },
  {
   "cell_type": "code",
   "execution_count": 25,
   "metadata": {
    "collapsed": true
   },
   "outputs": [],
   "source": [
    "#More complex logical queries can be peformed  using the WHERE function\n",
    "#All you need is the AND and OR logic\n",
    "\n",
    "query='''\n",
    "SELECT *\n",
    "FROM trips\n",
    "WHERE (duration >=9990) AND (sub_type=\"Registered\")\n",
    "ORDER BY duration DESC;\n",
    "'''"
   ]
  },
  {
   "cell_type": "code",
   "execution_count": 26,
   "metadata": {},
   "outputs": [
    {
     "data": {
      "text/html": [
       "<div>\n",
       "<table border=\"1\" class=\"dataframe\">\n",
       "  <thead>\n",
       "    <tr style=\"text-align: right;\">\n",
       "      <th></th>\n",
       "      <th>id</th>\n",
       "      <th>duration</th>\n",
       "      <th>start_date</th>\n",
       "      <th>start_station</th>\n",
       "      <th>end_date</th>\n",
       "      <th>end_station</th>\n",
       "      <th>bike_number</th>\n",
       "      <th>sub_type</th>\n",
       "      <th>zip_code</th>\n",
       "      <th>birth_date</th>\n",
       "      <th>gender</th>\n",
       "    </tr>\n",
       "  </thead>\n",
       "  <tbody>\n",
       "    <tr>\n",
       "      <th>0</th>\n",
       "      <td>315737</td>\n",
       "      <td>9995</td>\n",
       "      <td>2012-07-03 18:28:00</td>\n",
       "      <td>12</td>\n",
       "      <td>2012-07-03 21:15:00</td>\n",
       "      <td>12</td>\n",
       "      <td>B00250</td>\n",
       "      <td>Registered</td>\n",
       "      <td>'02120</td>\n",
       "      <td>1964.0</td>\n",
       "      <td>Male</td>\n",
       "    </tr>\n",
       "  </tbody>\n",
       "</table>\n",
       "</div>"
      ],
      "text/plain": [
       "       id  duration           start_date  start_station             end_date  \\\n",
       "0  315737      9995  2012-07-03 18:28:00             12  2012-07-03 21:15:00   \n",
       "\n",
       "   end_station bike_number    sub_type zip_code  birth_date gender  \n",
       "0           12      B00250  Registered   '02120      1964.0   Male  "
      ]
     },
     "execution_count": 26,
     "metadata": {},
     "output_type": "execute_result"
    }
   ],
   "source": [
    "run_query(query)"
   ]
  },
  {
   "cell_type": "code",
   "execution_count": null,
   "metadata": {
    "collapsed": true
   },
   "outputs": [],
   "source": [
    "#Now we want to find out how many trips were undertaken by registered\n",
    "#users/customers\n",
    "\n"
   ]
  },
  {
   "cell_type": "code",
   "execution_count": 27,
   "metadata": {},
   "outputs": [
    {
     "data": {
      "text/html": [
       "<div>\n",
       "<table border=\"1\" class=\"dataframe\">\n",
       "  <thead>\n",
       "    <tr style=\"text-align: right;\">\n",
       "      <th></th>\n",
       "      <th>COUNT (*)</th>\n",
       "    </tr>\n",
       "  </thead>\n",
       "  <tbody>\n",
       "    <tr>\n",
       "      <th>0</th>\n",
       "      <td>1105192</td>\n",
       "    </tr>\n",
       "  </tbody>\n",
       "</table>\n",
       "</div>"
      ],
      "text/plain": [
       "   COUNT (*)\n",
       "0    1105192"
      ]
     },
     "execution_count": 27,
     "metadata": {},
     "output_type": "execute_result"
    }
   ],
   "source": [
    "query='''\n",
    "SELECT COUNT (*)\n",
    "FROM trips \n",
    "WHERE (sub_type=\"Registered\");\n",
    "'''\n",
    "\n",
    "run_query(query)\n"
   ]
  },
  {
   "cell_type": "code",
   "execution_count": 29,
   "metadata": {},
   "outputs": [
    {
     "data": {
      "text/html": [
       "<div>\n",
       "<table border=\"1\" class=\"dataframe\">\n",
       "  <thead>\n",
       "    <tr style=\"text-align: right;\">\n",
       "      <th></th>\n",
       "      <th>Total Trips By Registered Users</th>\n",
       "    </tr>\n",
       "  </thead>\n",
       "  <tbody>\n",
       "    <tr>\n",
       "      <th>0</th>\n",
       "      <td>1105192</td>\n",
       "    </tr>\n",
       "  </tbody>\n",
       "</table>\n",
       "</div>"
      ],
      "text/plain": [
       "   Total Trips By Registered Users\n",
       "0                          1105192"
      ]
     },
     "execution_count": 29,
     "metadata": {},
     "output_type": "execute_result"
    }
   ],
   "source": [
    "#The column header is not very descriptive. Let's change iit\n",
    "\n",
    "query='''\n",
    "SELECT COUNT (*) AS \"Total Trips By Registered Users\"\n",
    "FROM trips\n",
    "WHERE (sub_type=\"Registered\");\n",
    "'''\n",
    "\n",
    "run_query(query)"
   ]
  },
  {
   "cell_type": "code",
   "execution_count": 31,
   "metadata": {},
   "outputs": [
    {
     "data": {
      "text/html": [
       "<div>\n",
       "<table border=\"1\" class=\"dataframe\">\n",
       "  <thead>\n",
       "    <tr style=\"text-align: right;\">\n",
       "      <th></th>\n",
       "      <th>Average Duration</th>\n",
       "    </tr>\n",
       "  </thead>\n",
       "  <tbody>\n",
       "    <tr>\n",
       "      <th>0</th>\n",
       "      <td>912.409682</td>\n",
       "    </tr>\n",
       "  </tbody>\n",
       "</table>\n",
       "</div>"
      ],
      "text/plain": [
       "   Average Duration\n",
       "0        912.409682"
      ]
     },
     "execution_count": 31,
     "metadata": {},
     "output_type": "execute_result"
    }
   ],
   "source": [
    "#Aggregate functions\n",
    "\n",
    "#We can use aggregating functions such as SUM, AVG (average), MIN, MAX\n",
    "#etc\n",
    "\n",
    "query='''\n",
    "SELECT AVG (duration) AS \"Average Duration\"\n",
    "FROM trips;\n",
    "\n",
    "'''\n",
    "\n",
    "run_query(query)"
   ]
  },
  {
   "cell_type": "code",
   "execution_count": 32,
   "metadata": {},
   "outputs": [
    {
     "data": {
      "text/html": [
       "<div>\n",
       "<table border=\"1\" class=\"dataframe\">\n",
       "  <thead>\n",
       "    <tr style=\"text-align: right;\">\n",
       "      <th></th>\n",
       "      <th>sub_type</th>\n",
       "      <th>Average Duration</th>\n",
       "    </tr>\n",
       "  </thead>\n",
       "  <tbody>\n",
       "    <tr>\n",
       "      <th>0</th>\n",
       "      <td>Casual</td>\n",
       "      <td>1519.643897</td>\n",
       "    </tr>\n",
       "    <tr>\n",
       "      <th>1</th>\n",
       "      <td>Registered</td>\n",
       "      <td>657.026067</td>\n",
       "    </tr>\n",
       "  </tbody>\n",
       "</table>\n",
       "</div>"
      ],
      "text/plain": [
       "     sub_type  Average Duration\n",
       "0      Casual       1519.643897\n",
       "1  Registered        657.026067"
      ]
     },
     "execution_count": 32,
     "metadata": {},
     "output_type": "execute_result"
    }
   ],
   "source": [
    "#This is about 15mins.\n",
    "#This makes some sense since Hubway charges extra fees for trips over\n",
    "#30mins. The service is meant for riders to take short,one-way trips\n",
    "\n",
    "query='''\n",
    "SELECT sub_type, AVG (duration) AS \"Average Duration\"\n",
    "FROM trips\n",
    "GROUP BY  sub_type;\n",
    "'''\n",
    "\n",
    "run_query(query)"
   ]
  },
  {
   "cell_type": "code",
   "execution_count": null,
   "metadata": {
    "collapsed": true
   },
   "outputs": [],
   "source": [
    "#Wow!  Causual users take more trips. It could be that causual riders\n",
    "#are tourists who spend more time on the bikes to ensure they get\n",
    "#around to see more places and the registered ones are those who \n",
    "#actullay live and work in the city. I imagine the registered ones are\n",
    "#those seldom use it for pleasure, probably just taking trips to and \n",
    "#fro from work  "
   ]
  },
  {
   "cell_type": "code",
   "execution_count": 38,
   "metadata": {},
   "outputs": [
    {
     "data": {
      "text/html": [
       "<div>\n",
       "<table border=\"1\" class=\"dataframe\">\n",
       "  <thead>\n",
       "    <tr style=\"text-align: right;\">\n",
       "      <th></th>\n",
       "      <th>Bike Number</th>\n",
       "      <th>Number of Trips</th>\n",
       "    </tr>\n",
       "  </thead>\n",
       "  <tbody>\n",
       "    <tr>\n",
       "      <th>0</th>\n",
       "      <td>B00490</td>\n",
       "      <td>2120</td>\n",
       "    </tr>\n",
       "    <tr>\n",
       "      <th>1</th>\n",
       "      <td>B00268</td>\n",
       "      <td>2104</td>\n",
       "    </tr>\n",
       "  </tbody>\n",
       "</table>\n",
       "</div>"
      ],
      "text/plain": [
       "  Bike Number  Number of Trips\n",
       "0      B00490             2120\n",
       "1      B00268             2104"
      ]
     },
     "execution_count": 38,
     "metadata": {},
     "output_type": "execute_result"
    }
   ],
   "source": [
    "# Lets figure out which bike was used for the most trips.\n",
    "\n",
    "query='''\n",
    "\n",
    "SELECT bike_number AS \"Bike Number\", COUNT(*) AS \"Number of Trips\"\n",
    "FROM trips\n",
    "GROUP BY bike_number\n",
    "ORDER BY COUNT (*) DESC\n",
    "LIMIT 2;\n",
    "\n",
    "'''\n",
    "\n",
    "run_query(query)\n"
   ]
  },
  {
   "cell_type": "code",
   "execution_count": 44,
   "metadata": {},
   "outputs": [
    {
     "data": {
      "text/html": [
       "<div>\n",
       "<table border=\"1\" class=\"dataframe\">\n",
       "  <thead>\n",
       "    <tr style=\"text-align: right;\">\n",
       "      <th></th>\n",
       "      <th>AVG (duration)</th>\n",
       "    </tr>\n",
       "  </thead>\n",
       "  <tbody>\n",
       "    <tr>\n",
       "      <th>0</th>\n",
       "      <td>923.014685</td>\n",
       "    </tr>\n",
       "  </tbody>\n",
       "</table>\n",
       "</div>"
      ],
      "text/plain": [
       "   AVG (duration)\n",
       "0      923.014685"
      ]
     },
     "execution_count": 44,
     "metadata": {},
     "output_type": "execute_result"
    }
   ],
   "source": [
    "#Lets figure out the duration of registered members over the age of \n",
    "#30. To achieve this, we will use the average arithemtic operator.\n",
    "\n",
    "\n",
    "query='''\n",
    "SELECT AVG (duration)\n",
    "FROM trips\n",
    "WHERE (2017-birth_date)>30;\n",
    "'''\n",
    "\n",
    "run_query(query)\n",
    "\n",
    "\n"
   ]
  },
  {
   "cell_type": "code",
   "execution_count": null,
   "metadata": {
    "collapsed": true
   },
   "outputs": [],
   "source": [
    "#running the same query for age less than 30, you will see that the\n",
    "#output is less than  the above. Suggesting that more people over 30\n",
    "#use the bicycle service more. This is Probably because those over 30 \n",
    "#are more health concious. Remember that cycling is a form of excerise"
   ]
  },
  {
   "cell_type": "code",
   "execution_count": null,
   "metadata": {
    "collapsed": true
   },
   "outputs": [],
   "source": []
  },
  {
   "cell_type": "code",
   "execution_count": 45,
   "metadata": {},
   "outputs": [
    {
     "data": {
      "text/html": [
       "<div>\n",
       "<table border=\"1\" class=\"dataframe\">\n",
       "  <thead>\n",
       "    <tr style=\"text-align: right;\">\n",
       "      <th></th>\n",
       "      <th>id</th>\n",
       "      <th>station</th>\n",
       "      <th>municipality</th>\n",
       "      <th>lat</th>\n",
       "      <th>lng</th>\n",
       "    </tr>\n",
       "  </thead>\n",
       "  <tbody>\n",
       "    <tr>\n",
       "      <th>0</th>\n",
       "      <td>3</td>\n",
       "      <td>Colleges of the Fenway</td>\n",
       "      <td>Boston</td>\n",
       "      <td>42.340021</td>\n",
       "      <td>-71.100812</td>\n",
       "    </tr>\n",
       "    <tr>\n",
       "      <th>1</th>\n",
       "      <td>4</td>\n",
       "      <td>Tremont St. at Berkeley St.</td>\n",
       "      <td>Boston</td>\n",
       "      <td>42.345392</td>\n",
       "      <td>-71.069616</td>\n",
       "    </tr>\n",
       "    <tr>\n",
       "      <th>2</th>\n",
       "      <td>5</td>\n",
       "      <td>Northeastern U / North Parking Lot</td>\n",
       "      <td>Boston</td>\n",
       "      <td>42.341814</td>\n",
       "      <td>-71.090179</td>\n",
       "    </tr>\n",
       "    <tr>\n",
       "      <th>3</th>\n",
       "      <td>6</td>\n",
       "      <td>Cambridge St. at Joy St.</td>\n",
       "      <td>Boston</td>\n",
       "      <td>42.361284999999995</td>\n",
       "      <td>-71.06514</td>\n",
       "    </tr>\n",
       "    <tr>\n",
       "      <th>4</th>\n",
       "      <td>7</td>\n",
       "      <td>Fan Pier</td>\n",
       "      <td>Boston</td>\n",
       "      <td>42.353412</td>\n",
       "      <td>-71.044624</td>\n",
       "    </tr>\n",
       "  </tbody>\n",
       "</table>\n",
       "</div>"
      ],
      "text/plain": [
       "   id                             station municipality                 lat  \\\n",
       "0   3              Colleges of the Fenway       Boston           42.340021   \n",
       "1   4         Tremont St. at Berkeley St.       Boston           42.345392   \n",
       "2   5  Northeastern U / North Parking Lot       Boston           42.341814   \n",
       "3   6            Cambridge St. at Joy St.       Boston  42.361284999999995   \n",
       "4   7                            Fan Pier       Boston           42.353412   \n",
       "\n",
       "          lng  \n",
       "0  -71.100812  \n",
       "1  -71.069616  \n",
       "2  -71.090179  \n",
       "3   -71.06514  \n",
       "4  -71.044624  "
      ]
     },
     "execution_count": 45,
     "metadata": {},
     "output_type": "execute_result"
    }
   ],
   "source": [
    "#Let's take a peek at the columns in the station table\n",
    "\n",
    "query='''\n",
    "\n",
    "SELECT *\n",
    "FROM stations\n",
    "LIMIT 5;\n",
    "'''\n",
    "\n",
    "run_query(query)"
   ]
  },
  {
   "cell_type": "code",
   "execution_count": 46,
   "metadata": {
    "collapsed": true
   },
   "outputs": [],
   "source": [
    "#The columns are self explanatory. Station ID, station name, latitude\n",
    "#and longitudes of stations. \n",
    "\n",
    "#Let me point out here that the Station ID corresponds to the \n",
    "#start_station and end_station in the trips table\n",
    "\n"
   ]
  },
  {
   "cell_type": "code",
   "execution_count": 53,
   "metadata": {},
   "outputs": [
    {
     "data": {
      "text/html": [
       "<div>\n",
       "<table border=\"1\" class=\"dataframe\">\n",
       "  <thead>\n",
       "    <tr style=\"text-align: right;\">\n",
       "      <th></th>\n",
       "      <th>Station</th>\n",
       "      <th>Count</th>\n",
       "    </tr>\n",
       "  </thead>\n",
       "  <tbody>\n",
       "    <tr>\n",
       "      <th>0</th>\n",
       "      <td>South Station - 700 Atlantic Ave.</td>\n",
       "      <td>56123</td>\n",
       "    </tr>\n",
       "    <tr>\n",
       "      <th>1</th>\n",
       "      <td>Boston Public Library - 700 Boylston St.</td>\n",
       "      <td>41994</td>\n",
       "    </tr>\n",
       "    <tr>\n",
       "      <th>2</th>\n",
       "      <td>Charles Circle - Charles St. at Cambridge St.</td>\n",
       "      <td>35984</td>\n",
       "    </tr>\n",
       "    <tr>\n",
       "      <th>3</th>\n",
       "      <td>Beacon St / Mass Ave</td>\n",
       "      <td>35275</td>\n",
       "    </tr>\n",
       "    <tr>\n",
       "      <th>4</th>\n",
       "      <td>MIT at Mass Ave / Amherst St</td>\n",
       "      <td>33644</td>\n",
       "    </tr>\n",
       "  </tbody>\n",
       "</table>\n",
       "</div>"
      ],
      "text/plain": [
       "                                         Station  Count\n",
       "0              South Station - 700 Atlantic Ave.  56123\n",
       "1       Boston Public Library - 700 Boylston St.  41994\n",
       "2  Charles Circle - Charles St. at Cambridge St.  35984\n",
       "3                           Beacon St / Mass Ave  35275\n",
       "4                   MIT at Mass Ave / Amherst St  33644"
      ]
     },
     "execution_count": 53,
     "metadata": {},
     "output_type": "execute_result"
    }
   ],
   "source": [
    "#Lets figure out which stations is the most frequent starting point.\n",
    "#The JOIN and ON commands will be used. \n",
    "\n",
    "#You can read more about JOIN online\n",
    "\n",
    "\n",
    "query='''\n",
    "\n",
    "SELECT stations.station AS \"Station\", COUNT (*) AS \"Count\"\n",
    "FROM trips\n",
    "JOIN stations\n",
    "\n",
    "ON trips.start_station=stations.id\n",
    "GROUP BY stations.station\n",
    "ORDER BY COUNT(*) DESC\n",
    "LIMIT 5;\n",
    "'''\n",
    "\n",
    "\n",
    "run_query(query)"
   ]
  },
  {
   "cell_type": "code",
   "execution_count": 54,
   "metadata": {
    "collapsed": true
   },
   "outputs": [],
   "source": [
    "#A quick google search reveals that these are very popular areas in\n",
    "#Boston because of the scenery. No wonder it has a high ridership\n",
    "\n"
   ]
  },
  {
   "cell_type": "code",
   "execution_count": 56,
   "metadata": {},
   "outputs": [
    {
     "data": {
      "text/html": [
       "<div>\n",
       "<table border=\"1\" class=\"dataframe\">\n",
       "  <thead>\n",
       "    <tr style=\"text-align: right;\">\n",
       "      <th></th>\n",
       "      <th>Station</th>\n",
       "      <th>Count</th>\n",
       "    </tr>\n",
       "  </thead>\n",
       "  <tbody>\n",
       "    <tr>\n",
       "      <th>0</th>\n",
       "      <td>The Esplanade - Beacon St. at Arlington St.</td>\n",
       "      <td>3064</td>\n",
       "    </tr>\n",
       "    <tr>\n",
       "      <th>1</th>\n",
       "      <td>Charles Circle - Charles St. at Cambridge St.</td>\n",
       "      <td>2739</td>\n",
       "    </tr>\n",
       "    <tr>\n",
       "      <th>2</th>\n",
       "      <td>Boston Public Library - 700 Boylston St.</td>\n",
       "      <td>2548</td>\n",
       "    </tr>\n",
       "    <tr>\n",
       "      <th>3</th>\n",
       "      <td>Boylston St. at Arlington St.</td>\n",
       "      <td>2163</td>\n",
       "    </tr>\n",
       "    <tr>\n",
       "      <th>4</th>\n",
       "      <td>Beacon St / Mass Ave</td>\n",
       "      <td>2144</td>\n",
       "    </tr>\n",
       "  </tbody>\n",
       "</table>\n",
       "</div>"
      ],
      "text/plain": [
       "                                         Station  Count\n",
       "0    The Esplanade - Beacon St. at Arlington St.   3064\n",
       "1  Charles Circle - Charles St. at Cambridge St.   2739\n",
       "2       Boston Public Library - 700 Boylston St.   2548\n",
       "3                  Boylston St. at Arlington St.   2163\n",
       "4                           Beacon St / Mass Ave   2144"
      ]
     },
     "execution_count": 56,
     "metadata": {},
     "output_type": "execute_result"
    }
   ],
   "source": [
    "#Let's answer the question: which stations are frequently used for\n",
    "#round trips.  We will proceed as above, however, we will add a WHERE\n",
    "#clause to restrict our COUNT to trips where the start_station is the\n",
    "#same as the end_station\n",
    "\n",
    "query='''\n",
    "\n",
    "SELECT stations.station AS \"Station\", COUNT (*) AS \"Count\"\n",
    "FROM trips\n",
    "JOIN stations\n",
    "ON trips.start_station=stations.id \n",
    "WHERE trips.start_station=trips.end_station\n",
    "GROUP BY stations.station\n",
    "ORDER BY COUNT(*) DESC\n",
    "LIMIT 5;\n",
    "'''\n",
    "\n",
    "run_query(query)"
   ]
  },
  {
   "cell_type": "code",
   "execution_count": 57,
   "metadata": {
    "collapsed": true
   },
   "outputs": [],
   "source": [
    "# It is interesting to see that a number of these stations are the \n",
    "#same as the previous question\n",
    "\n"
   ]
  },
  {
   "cell_type": "code",
   "execution_count": null,
   "metadata": {
    "collapsed": true
   },
   "outputs": [],
   "source": [
    "#Another question we can answer is: How many trips start and end in \n",
    "#different municipalities?"
   ]
  },
  {
   "cell_type": "code",
   "execution_count": 59,
   "metadata": {},
   "outputs": [
    {
     "data": {
      "text/html": [
       "<div>\n",
       "<table border=\"1\" class=\"dataframe\">\n",
       "  <thead>\n",
       "    <tr style=\"text-align: right;\">\n",
       "      <th></th>\n",
       "      <th>Total Trips Ending in Different Municipalities</th>\n",
       "    </tr>\n",
       "  </thead>\n",
       "  <tbody>\n",
       "    <tr>\n",
       "      <th>0</th>\n",
       "      <td>309748</td>\n",
       "    </tr>\n",
       "  </tbody>\n",
       "</table>\n",
       "</div>"
      ],
      "text/plain": [
       "   Total Trips Ending in Different Municipalities\n",
       "0                                          309748"
      ]
     },
     "execution_count": 59,
     "metadata": {},
     "output_type": "execute_result"
    }
   ],
   "source": [
    "query='''\n",
    "\n",
    "SELECT COUNT(trips.id) AS \"Total Trips Ending in Different Municipalities\"\n",
    "\n",
    "FROM trips\n",
    "\n",
    "JOIN stations AS start\n",
    "ON trips.start_station=start.id\n",
    "JOIN stations AS end\n",
    "ON trips.end_station=end.id\n",
    "WHERE start.municipality <> end.municipality;\n",
    "\n",
    "'''\n",
    "\n",
    "run_query(query)\n",
    "\n"
   ]
  },
  {
   "cell_type": "code",
   "execution_count": null,
   "metadata": {
    "collapsed": true
   },
   "outputs": [],
   "source": [
    "# This shows that about 300K out of 1.5million trips equivalent to 20%\n",
    "#ended in a different municipality. This points to the fact that  most\n",
    "#customers use it for short distances"
   ]
  },
  {
   "cell_type": "code",
   "execution_count": 60,
   "metadata": {
    "collapsed": true
   },
   "outputs": [],
   "source": [
    "\n",
    "# we can also answer questions like\n",
    "\n",
    "#1. How many trips incurred additional fees\n",
    "\n",
    "#2. Which bike was used for the longest total time?\n",
    "\n",
    "#3. Did registered or casual users take more round trips?\n",
    "\n",
    "#4. Which municipality had the longest average duration?"
   ]
  }
 ],
 "metadata": {
  "kernelspec": {
   "display_name": "Python 3",
   "language": "python",
   "name": "python3"
  },
  "language_info": {
   "codemirror_mode": {
    "name": "ipython",
    "version": 3
   },
   "file_extension": ".py",
   "mimetype": "text/x-python",
   "name": "python",
   "nbconvert_exporter": "python",
   "pygments_lexer": "ipython3",
   "version": "3.4.3"
  }
 },
 "nbformat": 4,
 "nbformat_minor": 2
}
