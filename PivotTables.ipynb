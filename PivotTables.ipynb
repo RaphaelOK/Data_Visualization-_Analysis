{
 "cells": [
  {
   "cell_type": "markdown",
   "metadata": {},
   "source": [
    "In this notebook, we will be practising pivot tables in  Pandas. Another notebook will follow where we will talk about vlook ups.\n",
    "\n",
    "\n",
    "It is important to point out that most data analysis are now performed using pandas http://pandas.pydata.org/index.html . It is faster, more robust, can handle large datasets and can codes can be written such that analysis is automated. This way more time is spent making sense of the output of the data rather than  clicking here and there like in Excel trying to generate simple plots. Pandas makes use of the python ecosystem; models can be built using statsmodels http://www.statsmodels.org/stable/index.html , predictions made on pricing, revenue and so on can be predicted uisng time series analysis https://www.analyticsvidhya.com/blog/2016/02/time-series-forecasting-codes-python/ and a host of other forecast with the machine learning libaray in python  http://scikit-learn.org/stable/"
   ]
  },
  {
   "cell_type": "markdown",
   "metadata": {},
   "source": [
    "import neccessary libaries"
   ]
  },
  {
   "cell_type": "code",
   "execution_count": 114,
   "metadata": {
    "collapsed": true
   },
   "outputs": [],
   "source": [
    "%matplotlib inline\n",
    "import matplotlib.pyplot as plt\n",
    "import numpy as np\n",
    "import pandas as pd"
   ]
  },
  {
   "cell_type": "markdown",
   "metadata": {},
   "source": [
    "Pivot tables provide us a very nice and convient way to summarize data by grouping data\n",
    "in specific ways. Read more about pivot tables in pandas here http://pandas.pydata.org/pandas-docs/stable/generated/pandas.pivot_table.html and pivot tables in general https://en.wikipedia.org/wiki/Pivot_table  and  https://www.techsoupcanada.ca/en/community/blog/pivot-tables"
   ]
  },
  {
   "cell_type": "markdown",
   "metadata": {},
   "source": [
    "Lets read in data from  VanArsdel sales in Canada.  This data will be used to in the rest of the pivot table tutorial"
   ]
  },
  {
   "cell_type": "code",
   "execution_count": 225,
   "metadata": {
    "collapsed": true
   },
   "outputs": [],
   "source": [
    "Vand_Data=pd.ExcelFile('/home/raphael/Documents/DataSets/isVanArsdel.xlsx',sheetname=None )"
   ]
  },
  {
   "cell_type": "markdown",
   "metadata": {},
   "source": [
    "Let's  find out the sheets that make up this data"
   ]
  },
  {
   "cell_type": "code",
   "execution_count": 41,
   "metadata": {},
   "outputs": [
    {
     "data": {
      "text/plain": [
       "['Manufacturer',\n",
       " 'Locations',\n",
       " 'Products',\n",
       " 'PivotTables',\n",
       " 'Sales',\n",
       " 'Dashboard - CA']"
      ]
     },
     "execution_count": 41,
     "metadata": {},
     "output_type": "execute_result"
    }
   ],
   "source": [
    "Vand_Data.sheet_names"
   ]
  },
  {
   "cell_type": "markdown",
   "metadata": {},
   "source": [
    "Lets see what some of sheets look like. To do this, we use the parse function http://pandas.pydata.org/pandas-docs/stable/generated/pandas.ExcelFile.parse.html . Below I only show the first five rows. The data actually has 1411 rows."
   ]
  },
  {
   "cell_type": "code",
   "execution_count": 52,
   "metadata": {},
   "outputs": [
    {
     "data": {
      "text/html": [
       "<div>\n",
       "<table border=\"1\" class=\"dataframe\">\n",
       "  <thead>\n",
       "    <tr style=\"text-align: right;\">\n",
       "      <th></th>\n",
       "      <th>ProductID</th>\n",
       "      <th>Date</th>\n",
       "      <th>Zip</th>\n",
       "      <th>Units</th>\n",
       "      <th>Revenue</th>\n",
       "      <th>Country</th>\n",
       "      <th>Product</th>\n",
       "      <th>Category</th>\n",
       "      <th>Segment</th>\n",
       "      <th>Manufacturer</th>\n",
       "      <th>State</th>\n",
       "      <th>isVanArsdel</th>\n",
       "      <th>Month</th>\n",
       "      <th>Year</th>\n",
       "    </tr>\n",
       "  </thead>\n",
       "  <tbody>\n",
       "    <tr>\n",
       "      <th>0</th>\n",
       "      <td>1924</td>\n",
       "      <td>2015-02-09</td>\n",
       "      <td>M5R</td>\n",
       "      <td>1</td>\n",
       "      <td>4409.37</td>\n",
       "      <td>Canada</td>\n",
       "      <td>Currus MA-17</td>\n",
       "      <td>Mix</td>\n",
       "      <td>All Season</td>\n",
       "      <td>Currus</td>\n",
       "      <td>Ontario</td>\n",
       "      <td>N</td>\n",
       "      <td>2</td>\n",
       "      <td>2015</td>\n",
       "    </tr>\n",
       "    <tr>\n",
       "      <th>1</th>\n",
       "      <td>1517</td>\n",
       "      <td>2015-05-31</td>\n",
       "      <td>R3G</td>\n",
       "      <td>1</td>\n",
       "      <td>2361.24</td>\n",
       "      <td>Canada</td>\n",
       "      <td>Quibus RP-09</td>\n",
       "      <td>Rural</td>\n",
       "      <td>Productivity</td>\n",
       "      <td>Quibus</td>\n",
       "      <td>Manitoba</td>\n",
       "      <td>N</td>\n",
       "      <td>5</td>\n",
       "      <td>2015</td>\n",
       "    </tr>\n",
       "    <tr>\n",
       "      <th>2</th>\n",
       "      <td>615</td>\n",
       "      <td>2015-05-31</td>\n",
       "      <td>M4V</td>\n",
       "      <td>1</td>\n",
       "      <td>8189.37</td>\n",
       "      <td>Canada</td>\n",
       "      <td>Maximus UC-80</td>\n",
       "      <td>Urban</td>\n",
       "      <td>Convenience</td>\n",
       "      <td>VanArsdel</td>\n",
       "      <td>Ontario</td>\n",
       "      <td>Y</td>\n",
       "      <td>5</td>\n",
       "      <td>2015</td>\n",
       "    </tr>\n",
       "    <tr>\n",
       "      <th>3</th>\n",
       "      <td>1530</td>\n",
       "      <td>2015-05-31</td>\n",
       "      <td>R3H</td>\n",
       "      <td>1</td>\n",
       "      <td>4282.74</td>\n",
       "      <td>Canada</td>\n",
       "      <td>Quibus RP-22</td>\n",
       "      <td>Rural</td>\n",
       "      <td>Productivity</td>\n",
       "      <td>Quibus</td>\n",
       "      <td>Manitoba</td>\n",
       "      <td>N</td>\n",
       "      <td>5</td>\n",
       "      <td>2015</td>\n",
       "    </tr>\n",
       "    <tr>\n",
       "      <th>4</th>\n",
       "      <td>1226</td>\n",
       "      <td>2015-06-01</td>\n",
       "      <td>L5P</td>\n",
       "      <td>1</td>\n",
       "      <td>6866.37</td>\n",
       "      <td>Canada</td>\n",
       "      <td>Pirum UC-28</td>\n",
       "      <td>Urban</td>\n",
       "      <td>Convenience</td>\n",
       "      <td>Pirum</td>\n",
       "      <td>Ontario</td>\n",
       "      <td>N</td>\n",
       "      <td>6</td>\n",
       "      <td>2015</td>\n",
       "    </tr>\n",
       "  </tbody>\n",
       "</table>\n",
       "</div>"
      ],
      "text/plain": [
       "   ProductID       Date  Zip  Units  Revenue Country        Product Category  \\\n",
       "0       1924 2015-02-09  M5R      1  4409.37  Canada   Currus MA-17      Mix   \n",
       "1       1517 2015-05-31  R3G      1  2361.24  Canada   Quibus RP-09    Rural   \n",
       "2        615 2015-05-31  M4V      1  8189.37  Canada  Maximus UC-80    Urban   \n",
       "3       1530 2015-05-31  R3H      1  4282.74  Canada   Quibus RP-22    Rural   \n",
       "4       1226 2015-06-01  L5P      1  6866.37  Canada    Pirum UC-28    Urban   \n",
       "\n",
       "        Segment Manufacturer     State isVanArsdel  Month  Year  \n",
       "0    All Season       Currus   Ontario           N      2  2015  \n",
       "1  Productivity       Quibus  Manitoba           N      5  2015  \n",
       "2   Convenience    VanArsdel   Ontario           Y      5  2015  \n",
       "3  Productivity       Quibus  Manitoba           N      5  2015  \n",
       "4   Convenience        Pirum   Ontario           N      6  2015  "
      ]
     },
     "execution_count": 52,
     "metadata": {},
     "output_type": "execute_result"
    }
   ],
   "source": [
    "Sales = Vand_Data.parse('Sales')\n",
    "\n",
    "Sales.head(5)"
   ]
  },
  {
   "cell_type": "code",
   "execution_count": 43,
   "metadata": {},
   "outputs": [
    {
     "data": {
      "text/html": [
       "<div>\n",
       "<table border=\"1\" class=\"dataframe\">\n",
       "  <thead>\n",
       "    <tr style=\"text-align: right;\">\n",
       "      <th></th>\n",
       "      <th>Zip</th>\n",
       "      <th>State</th>\n",
       "      <th>Country</th>\n",
       "    </tr>\n",
       "  </thead>\n",
       "  <tbody>\n",
       "    <tr>\n",
       "      <th>0</th>\n",
       "      <td>A0A</td>\n",
       "      <td>Newfoundland and Labrador</td>\n",
       "      <td>Canada</td>\n",
       "    </tr>\n",
       "    <tr>\n",
       "      <th>1</th>\n",
       "      <td>A0B</td>\n",
       "      <td>Newfoundland and Labrador</td>\n",
       "      <td>Canada</td>\n",
       "    </tr>\n",
       "    <tr>\n",
       "      <th>2</th>\n",
       "      <td>A0C</td>\n",
       "      <td>Newfoundland and Labrador</td>\n",
       "      <td>Canada</td>\n",
       "    </tr>\n",
       "    <tr>\n",
       "      <th>3</th>\n",
       "      <td>A0E</td>\n",
       "      <td>Newfoundland and Labrador</td>\n",
       "      <td>Canada</td>\n",
       "    </tr>\n",
       "    <tr>\n",
       "      <th>4</th>\n",
       "      <td>A0G</td>\n",
       "      <td>Newfoundland and Labrador</td>\n",
       "      <td>Canada</td>\n",
       "    </tr>\n",
       "  </tbody>\n",
       "</table>\n",
       "</div>"
      ],
      "text/plain": [
       "   Zip                      State Country\n",
       "0  A0A  Newfoundland and Labrador  Canada\n",
       "1  A0B  Newfoundland and Labrador  Canada\n",
       "2  A0C  Newfoundland and Labrador  Canada\n",
       "3  A0E  Newfoundland and Labrador  Canada\n",
       "4  A0G  Newfoundland and Labrador  Canada"
      ]
     },
     "execution_count": 43,
     "metadata": {},
     "output_type": "execute_result"
    }
   ],
   "source": [
    "Locations=Vand_Sales.parse(\"Locations\")\n",
    "Locations.head(5)"
   ]
  },
  {
   "cell_type": "code",
   "execution_count": 44,
   "metadata": {},
   "outputs": [
    {
     "data": {
      "text/plain": [
       "Index(['ProductID', 'Date', 'Zip', 'Units', 'Revenue', 'Country', 'Product',\n",
       "       'Category', 'Segment', 'Manufacturer', 'State', 'isVanArsdel', 'Month',\n",
       "       'Year'],\n",
       "      dtype='object')"
      ]
     },
     "execution_count": 44,
     "metadata": {},
     "output_type": "execute_result"
    }
   ],
   "source": [
    "Sales.columns"
   ]
  },
  {
   "cell_type": "markdown",
   "metadata": {},
   "source": [
    "Lets create a pivot table showing the total sales that come from manufactured goods by each State.  "
   ]
  },
  {
   "cell_type": "code",
   "execution_count": 45,
   "metadata": {},
   "outputs": [
    {
     "data": {
      "text/html": [
       "<div>\n",
       "<table border=\"1\" class=\"dataframe\">\n",
       "  <thead>\n",
       "    <tr style=\"text-align: right;\">\n",
       "      <th>isVanArsdel</th>\n",
       "      <th>N</th>\n",
       "      <th>Y</th>\n",
       "    </tr>\n",
       "    <tr>\n",
       "      <th>State</th>\n",
       "      <th></th>\n",
       "      <th></th>\n",
       "    </tr>\n",
       "  </thead>\n",
       "  <tbody>\n",
       "    <tr>\n",
       "      <th>Alberta</th>\n",
       "      <td>1547543.34</td>\n",
       "      <td>1415615.04</td>\n",
       "    </tr>\n",
       "    <tr>\n",
       "      <th>British Columbia</th>\n",
       "      <td>996666.93</td>\n",
       "      <td>1111471.83</td>\n",
       "    </tr>\n",
       "    <tr>\n",
       "      <th>Manitoba</th>\n",
       "      <td>728141.40</td>\n",
       "      <td>651176.82</td>\n",
       "    </tr>\n",
       "    <tr>\n",
       "      <th>Ontario</th>\n",
       "      <td>1733048.10</td>\n",
       "      <td>1382179.68</td>\n",
       "    </tr>\n",
       "    <tr>\n",
       "      <th>Quebec</th>\n",
       "      <td>126376.74</td>\n",
       "      <td>133963.20</td>\n",
       "    </tr>\n",
       "  </tbody>\n",
       "</table>\n",
       "</div>"
      ],
      "text/plain": [
       "isVanArsdel                N           Y\n",
       "State                                   \n",
       "Alberta           1547543.34  1415615.04\n",
       "British Columbia   996666.93  1111471.83\n",
       "Manitoba           728141.40   651176.82\n",
       "Ontario           1733048.10  1382179.68\n",
       "Quebec             126376.74   133963.20"
      ]
     },
     "execution_count": 45,
     "metadata": {},
     "output_type": "execute_result"
    }
   ],
   "source": [
    "sales_manu_province=Sales.pivot_table(index=\"State\",columns=\"isVanArsdel\", values=\"Revenue\",aggfunc=np.sum)\n",
    "sales_manu_province"
   ]
  },
  {
   "cell_type": "markdown",
   "metadata": {},
   "source": [
    "Respectively in the above table, N and Y respresents the total sales from goods not manufactured by isVanArsdel but sold by his company and Y is the total sale from goods manufactured by isVanArsdel"
   ]
  },
  {
   "cell_type": "markdown",
   "metadata": {},
   "source": [
    "# "
   ]
  },
  {
   "cell_type": "markdown",
   "metadata": {},
   "source": [
    "Now let's get the grand total "
   ]
  },
  {
   "cell_type": "code",
   "execution_count": 46,
   "metadata": {},
   "outputs": [
    {
     "data": {
      "text/html": [
       "<div>\n",
       "<table border=\"1\" class=\"dataframe\">\n",
       "  <thead>\n",
       "    <tr style=\"text-align: right;\">\n",
       "      <th>isVanArsdel</th>\n",
       "      <th>N</th>\n",
       "      <th>Y</th>\n",
       "      <th>Grand total</th>\n",
       "    </tr>\n",
       "    <tr>\n",
       "      <th>State</th>\n",
       "      <th></th>\n",
       "      <th></th>\n",
       "      <th></th>\n",
       "    </tr>\n",
       "  </thead>\n",
       "  <tbody>\n",
       "    <tr>\n",
       "      <th>Alberta</th>\n",
       "      <td>1547543.34</td>\n",
       "      <td>1415615.04</td>\n",
       "      <td>2963158.38</td>\n",
       "    </tr>\n",
       "    <tr>\n",
       "      <th>British Columbia</th>\n",
       "      <td>996666.93</td>\n",
       "      <td>1111471.83</td>\n",
       "      <td>2108138.76</td>\n",
       "    </tr>\n",
       "    <tr>\n",
       "      <th>Manitoba</th>\n",
       "      <td>728141.40</td>\n",
       "      <td>651176.82</td>\n",
       "      <td>1379318.22</td>\n",
       "    </tr>\n",
       "    <tr>\n",
       "      <th>Ontario</th>\n",
       "      <td>1733048.10</td>\n",
       "      <td>1382179.68</td>\n",
       "      <td>3115227.78</td>\n",
       "    </tr>\n",
       "    <tr>\n",
       "      <th>Quebec</th>\n",
       "      <td>126376.74</td>\n",
       "      <td>133963.20</td>\n",
       "      <td>260339.94</td>\n",
       "    </tr>\n",
       "  </tbody>\n",
       "</table>\n",
       "</div>"
      ],
      "text/plain": [
       "isVanArsdel                N           Y  Grand total\n",
       "State                                                \n",
       "Alberta           1547543.34  1415615.04   2963158.38\n",
       "British Columbia   996666.93  1111471.83   2108138.76\n",
       "Manitoba           728141.40   651176.82   1379318.22\n",
       "Ontario           1733048.10  1382179.68   3115227.78\n",
       "Quebec             126376.74   133963.20    260339.94"
      ]
     },
     "execution_count": 46,
     "metadata": {},
     "output_type": "execute_result"
    }
   ],
   "source": [
    "sales_manu_province[\"Grand total\"] = sales_manu_province[\"N\"] +sales_manu_province[\"Y\"] \n",
    "sales_manu_province.head()"
   ]
  },
  {
   "cell_type": "markdown",
   "metadata": {},
   "source": [
    "# "
   ]
  },
  {
   "cell_type": "markdown",
   "metadata": {},
   "source": [
    "The next logical thing to do will be to get the total sales from N and Y across all provinces."
   ]
  },
  {
   "cell_type": "code",
   "execution_count": 47,
   "metadata": {},
   "outputs": [
    {
     "data": {
      "text/plain": [
       "isVanArsdel\n",
       "N              5131776.51\n",
       "Y              4694406.57\n",
       "Grand total    9826183.08\n",
       "dtype: float64"
      ]
     },
     "execution_count": 47,
     "metadata": {},
     "output_type": "execute_result"
    }
   ],
   "source": [
    "sum_row=sales_manu_province[[\"N\",\"Y\",\"Grand total\"]].sum()\n",
    "sum_row"
   ]
  },
  {
   "cell_type": "markdown",
   "metadata": {},
   "source": [
    "we can make this into a small table"
   ]
  },
  {
   "cell_type": "code",
   "execution_count": 48,
   "metadata": {},
   "outputs": [
    {
     "data": {
      "text/html": [
       "<div>\n",
       "<table border=\"1\" class=\"dataframe\">\n",
       "  <thead>\n",
       "    <tr style=\"text-align: right;\">\n",
       "      <th>isVanArsdel</th>\n",
       "      <th>N</th>\n",
       "      <th>Y</th>\n",
       "      <th>Grand total</th>\n",
       "    </tr>\n",
       "  </thead>\n",
       "  <tbody>\n",
       "    <tr>\n",
       "      <th>0</th>\n",
       "      <td>5131776.51</td>\n",
       "      <td>4694406.57</td>\n",
       "      <td>9826183.08</td>\n",
       "    </tr>\n",
       "  </tbody>\n",
       "</table>\n",
       "</div>"
      ],
      "text/plain": [
       "isVanArsdel           N           Y  Grand total\n",
       "0            5131776.51  4694406.57   9826183.08"
      ]
     },
     "execution_count": 48,
     "metadata": {},
     "output_type": "execute_result"
    }
   ],
   "source": [
    "df_sum=pd.DataFrame(data=sum_row).T\n",
    "df_sum"
   ]
  },
  {
   "cell_type": "markdown",
   "metadata": {},
   "source": [
    "we see that 52% of his sales come from non-manufactured products while  47% is from manufactured products"
   ]
  },
  {
   "cell_type": "markdown",
   "metadata": {
    "collapsed": true
   },
   "source": [
    "# "
   ]
  },
  {
   "cell_type": "markdown",
   "metadata": {},
   "source": [
    " At this point, we don't need isVanArsdel on the column index anymore. Lets get rid of it"
   ]
  },
  {
   "cell_type": "code",
   "execution_count": 49,
   "metadata": {},
   "outputs": [
    {
     "data": {
      "text/html": [
       "<div>\n",
       "<table border=\"1\" class=\"dataframe\">\n",
       "  <thead>\n",
       "    <tr style=\"text-align: right;\">\n",
       "      <th></th>\n",
       "      <th>N</th>\n",
       "      <th>Y</th>\n",
       "      <th>Grand total</th>\n",
       "    </tr>\n",
       "  </thead>\n",
       "  <tbody>\n",
       "    <tr>\n",
       "      <th>0</th>\n",
       "      <td>5131776.51</td>\n",
       "      <td>4694406.57</td>\n",
       "      <td>9826183.08</td>\n",
       "    </tr>\n",
       "  </tbody>\n",
       "</table>\n",
       "</div>"
      ],
      "text/plain": [
       "            N           Y  Grand total\n",
       "0  5131776.51  4694406.57   9826183.08"
      ]
     },
     "execution_count": 49,
     "metadata": {},
     "output_type": "execute_result"
    }
   ],
   "source": [
    "df_sum.columns.name=None\n",
    "df_sum"
   ]
  },
  {
   "cell_type": "markdown",
   "metadata": {},
   "source": [
    "\n",
    "\n",
    "\n",
    "\n"
   ]
  },
  {
   "cell_type": "code",
   "execution_count": 98,
   "metadata": {},
   "outputs": [
    {
     "data": {
      "text/plain": [
       "0      All Season\n",
       "1    Productivity\n",
       "2     Convenience\n",
       "3    Productivity\n",
       "4     Convenience\n",
       "5           Youth\n",
       "6     Convenience\n",
       "7           Youth\n",
       "8     Convenience\n",
       "9           Youth\n",
       "Name: Segment, dtype: object"
      ]
     },
     "execution_count": 98,
     "metadata": {},
     "output_type": "execute_result"
    }
   ],
   "source": [
    "Sales[\"Segment\"].head(10)"
   ]
  },
  {
   "cell_type": "code",
   "execution_count": 99,
   "metadata": {},
   "outputs": [
    {
     "data": {
      "text/plain": [
       "1402     Convenience\n",
       "1403         Extreme\n",
       "1404     Convenience\n",
       "1405     Convenience\n",
       "1406    Productivity\n",
       "1407           Youth\n",
       "1408     Convenience\n",
       "1409     Convenience\n",
       "1410     Convenience\n",
       "1411         Extreme\n",
       "Name: Segment, dtype: object"
      ]
     },
     "execution_count": 99,
     "metadata": {},
     "output_type": "execute_result"
    }
   ],
   "source": [
    "Sales[\"Segment\"].tail(10)"
   ]
  },
  {
   "cell_type": "markdown",
   "metadata": {},
   "source": [
    "From the first and last 10rows, we see that the Segment column is made up of a couple of entries. Lets's check see what entries make up the column and how many times each entry occur"
   ]
  },
  {
   "cell_type": "code",
   "execution_count": 100,
   "metadata": {},
   "outputs": [
    {
     "data": {
      "text/plain": [
       "Convenience     403\n",
       "Moderation      304\n",
       "Productivity    246\n",
       "Extreme         242\n",
       "Youth            94\n",
       "Select           49\n",
       "All Season       43\n",
       "Regular          31\n",
       "Name: Segment, dtype: int64"
      ]
     },
     "execution_count": 100,
     "metadata": {},
     "output_type": "execute_result"
    }
   ],
   "source": [
    "Sales[\"Segment\"].value_counts()"
   ]
  },
  {
   "cell_type": "markdown",
   "metadata": {},
   "source": [
    "Indeed there are other entries in the columns bringing them to a total of 8 with goods from  convenience  having the most number entris-a total of 403 entries(or rows)."
   ]
  },
  {
   "cell_type": "markdown",
   "metadata": {},
   "source": [
    "Now we know the segments of each manufactured goods, it is only logical to know the sales from each segement."
   ]
  },
  {
   "cell_type": "code",
   "execution_count": 108,
   "metadata": {},
   "outputs": [
    {
     "data": {
      "text/html": [
       "<div>\n",
       "<table border=\"1\" class=\"dataframe\">\n",
       "  <thead>\n",
       "    <tr style=\"text-align: right;\">\n",
       "      <th>isVanArsdel</th>\n",
       "      <th>N</th>\n",
       "      <th>Y</th>\n",
       "    </tr>\n",
       "    <tr>\n",
       "      <th>Segment</th>\n",
       "      <th></th>\n",
       "      <th></th>\n",
       "    </tr>\n",
       "  </thead>\n",
       "  <tbody>\n",
       "    <tr>\n",
       "      <th>All Season</th>\n",
       "      <td>204985.62</td>\n",
       "      <td>NaN</td>\n",
       "    </tr>\n",
       "    <tr>\n",
       "      <th>Convenience</th>\n",
       "      <td>1368672.48</td>\n",
       "      <td>1581585.39</td>\n",
       "    </tr>\n",
       "    <tr>\n",
       "      <th>Extreme</th>\n",
       "      <td>1465621.92</td>\n",
       "      <td>83817.72</td>\n",
       "    </tr>\n",
       "    <tr>\n",
       "      <th>Moderation</th>\n",
       "      <td>874235.88</td>\n",
       "      <td>3009316.59</td>\n",
       "    </tr>\n",
       "    <tr>\n",
       "      <th>Productivity</th>\n",
       "      <td>673778.70</td>\n",
       "      <td>NaN</td>\n",
       "    </tr>\n",
       "    <tr>\n",
       "      <th>Regular</th>\n",
       "      <td>161355.60</td>\n",
       "      <td>NaN</td>\n",
       "    </tr>\n",
       "    <tr>\n",
       "      <th>Select</th>\n",
       "      <td>181307.07</td>\n",
       "      <td>19686.87</td>\n",
       "    </tr>\n",
       "    <tr>\n",
       "      <th>Youth</th>\n",
       "      <td>201819.24</td>\n",
       "      <td>NaN</td>\n",
       "    </tr>\n",
       "  </tbody>\n",
       "</table>\n",
       "</div>"
      ],
      "text/plain": [
       "isVanArsdel            N           Y\n",
       "Segment                             \n",
       "All Season     204985.62         NaN\n",
       "Convenience   1368672.48  1581585.39\n",
       "Extreme       1465621.92    83817.72\n",
       "Moderation     874235.88  3009316.59\n",
       "Productivity   673778.70         NaN\n",
       "Regular        161355.60         NaN\n",
       "Select         181307.07    19686.87\n",
       "Youth          201819.24         NaN"
      ]
     },
     "execution_count": 108,
     "metadata": {},
     "output_type": "execute_result"
    }
   ],
   "source": [
    "Sales_by_Segments=Sales.pivot_table(index=\"Segment\", columns=[\"isVanArsdel\"],values=\"Revenue\",aggfunc=np.sum)\n",
    "Sales_by_Segments"
   ]
  },
  {
   "cell_type": "markdown",
   "metadata": {},
   "source": [
    "Note that NaN means there is no data for that entry. This means  for such segments, isVanArsdel only sells products manufactured by other companies. There are ways to treat this nuisance; however, for now lets leave it there.\n",
    "\n",
    "\n",
    "Again lets get the Grand total"
   ]
  },
  {
   "cell_type": "code",
   "execution_count": 109,
   "metadata": {},
   "outputs": [
    {
     "data": {
      "text/html": [
       "<div>\n",
       "<table border=\"1\" class=\"dataframe\">\n",
       "  <thead>\n",
       "    <tr style=\"text-align: right;\">\n",
       "      <th>isVanArsdel</th>\n",
       "      <th>N</th>\n",
       "      <th>Y</th>\n",
       "      <th>Grand total</th>\n",
       "    </tr>\n",
       "    <tr>\n",
       "      <th>Segment</th>\n",
       "      <th></th>\n",
       "      <th></th>\n",
       "      <th></th>\n",
       "    </tr>\n",
       "  </thead>\n",
       "  <tbody>\n",
       "    <tr>\n",
       "      <th>All Season</th>\n",
       "      <td>204985.62</td>\n",
       "      <td>NaN</td>\n",
       "      <td>NaN</td>\n",
       "    </tr>\n",
       "    <tr>\n",
       "      <th>Convenience</th>\n",
       "      <td>1368672.48</td>\n",
       "      <td>1581585.39</td>\n",
       "      <td>2950257.87</td>\n",
       "    </tr>\n",
       "    <tr>\n",
       "      <th>Extreme</th>\n",
       "      <td>1465621.92</td>\n",
       "      <td>83817.72</td>\n",
       "      <td>1549439.64</td>\n",
       "    </tr>\n",
       "    <tr>\n",
       "      <th>Moderation</th>\n",
       "      <td>874235.88</td>\n",
       "      <td>3009316.59</td>\n",
       "      <td>3883552.47</td>\n",
       "    </tr>\n",
       "    <tr>\n",
       "      <th>Productivity</th>\n",
       "      <td>673778.70</td>\n",
       "      <td>NaN</td>\n",
       "      <td>NaN</td>\n",
       "    </tr>\n",
       "    <tr>\n",
       "      <th>Regular</th>\n",
       "      <td>161355.60</td>\n",
       "      <td>NaN</td>\n",
       "      <td>NaN</td>\n",
       "    </tr>\n",
       "    <tr>\n",
       "      <th>Select</th>\n",
       "      <td>181307.07</td>\n",
       "      <td>19686.87</td>\n",
       "      <td>200993.94</td>\n",
       "    </tr>\n",
       "    <tr>\n",
       "      <th>Youth</th>\n",
       "      <td>201819.24</td>\n",
       "      <td>NaN</td>\n",
       "      <td>NaN</td>\n",
       "    </tr>\n",
       "  </tbody>\n",
       "</table>\n",
       "</div>"
      ],
      "text/plain": [
       "isVanArsdel            N           Y  Grand total\n",
       "Segment                                          \n",
       "All Season     204985.62         NaN          NaN\n",
       "Convenience   1368672.48  1581585.39   2950257.87\n",
       "Extreme       1465621.92    83817.72   1549439.64\n",
       "Moderation     874235.88  3009316.59   3883552.47\n",
       "Productivity   673778.70         NaN          NaN\n",
       "Regular        161355.60         NaN          NaN\n",
       "Select         181307.07    19686.87    200993.94\n",
       "Youth          201819.24         NaN          NaN"
      ]
     },
     "execution_count": 109,
     "metadata": {},
     "output_type": "execute_result"
    }
   ],
   "source": [
    "Sales_by_Segments[\"Grand total\"] = Sales_by_Segments[\"N\"] +Sales_by_Segments[\"Y\"] \n",
    "Sales_by_Segments"
   ]
  },
  {
   "cell_type": "markdown",
   "metadata": {},
   "source": [
    "Interestingly, even though convience had the most entry, it doesn't account for the most sales."
   ]
  },
  {
   "cell_type": "markdown",
   "metadata": {},
   "source": [
    "# "
   ]
  },
  {
   "cell_type": "markdown",
   "metadata": {},
   "source": [
    "If for any reason, you want to investigate a subset of the dataset, it is very easy to do so. For example, if I want to further take a look at the Regular entry in the segement column, the code below will let you do so."
   ]
  },
  {
   "cell_type": "code",
   "execution_count": 112,
   "metadata": {},
   "outputs": [
    {
     "data": {
      "text/html": [
       "<div>\n",
       "<table border=\"1\" class=\"dataframe\">\n",
       "  <thead>\n",
       "    <tr style=\"text-align: right;\">\n",
       "      <th></th>\n",
       "      <th>ProductID</th>\n",
       "      <th>Date</th>\n",
       "      <th>Zip</th>\n",
       "      <th>Units</th>\n",
       "      <th>Revenue</th>\n",
       "      <th>Country</th>\n",
       "      <th>Product</th>\n",
       "      <th>Category</th>\n",
       "      <th>Segment</th>\n",
       "      <th>Manufacturer</th>\n",
       "      <th>State</th>\n",
       "      <th>isVanArsdel</th>\n",
       "      <th>Month</th>\n",
       "      <th>Year</th>\n",
       "    </tr>\n",
       "  </thead>\n",
       "  <tbody>\n",
       "    <tr>\n",
       "      <th>28</th>\n",
       "      <td>244</td>\n",
       "      <td>2015-05-27</td>\n",
       "      <td>L5N</td>\n",
       "      <td>1</td>\n",
       "      <td>7556.85</td>\n",
       "      <td>Canada</td>\n",
       "      <td>Fama UR-16</td>\n",
       "      <td>Urban</td>\n",
       "      <td>Regular</td>\n",
       "      <td>Fama</td>\n",
       "      <td>Ontario</td>\n",
       "      <td>N</td>\n",
       "      <td>5</td>\n",
       "      <td>2015</td>\n",
       "    </tr>\n",
       "    <tr>\n",
       "      <th>51</th>\n",
       "      <td>2143</td>\n",
       "      <td>2015-04-06</td>\n",
       "      <td>M7Y</td>\n",
       "      <td>1</td>\n",
       "      <td>5291.37</td>\n",
       "      <td>Canada</td>\n",
       "      <td>Victoria UR-19</td>\n",
       "      <td>Urban</td>\n",
       "      <td>Regular</td>\n",
       "      <td>Victoria</td>\n",
       "      <td>Ontario</td>\n",
       "      <td>N</td>\n",
       "      <td>4</td>\n",
       "      <td>2015</td>\n",
       "    </tr>\n",
       "    <tr>\n",
       "      <th>222</th>\n",
       "      <td>229</td>\n",
       "      <td>2015-03-10</td>\n",
       "      <td>T5J</td>\n",
       "      <td>1</td>\n",
       "      <td>7241.85</td>\n",
       "      <td>Canada</td>\n",
       "      <td>Fama UR-01</td>\n",
       "      <td>Urban</td>\n",
       "      <td>Regular</td>\n",
       "      <td>Fama</td>\n",
       "      <td>Alberta</td>\n",
       "      <td>N</td>\n",
       "      <td>3</td>\n",
       "      <td>2015</td>\n",
       "    </tr>\n",
       "    <tr>\n",
       "      <th>346</th>\n",
       "      <td>2145</td>\n",
       "      <td>2015-03-12</td>\n",
       "      <td>L5G</td>\n",
       "      <td>1</td>\n",
       "      <td>4850.37</td>\n",
       "      <td>Canada</td>\n",
       "      <td>Victoria UR-21</td>\n",
       "      <td>Urban</td>\n",
       "      <td>Regular</td>\n",
       "      <td>Victoria</td>\n",
       "      <td>Ontario</td>\n",
       "      <td>N</td>\n",
       "      <td>3</td>\n",
       "      <td>2015</td>\n",
       "    </tr>\n",
       "    <tr>\n",
       "      <th>360</th>\n",
       "      <td>253</td>\n",
       "      <td>2015-03-13</td>\n",
       "      <td>M6G</td>\n",
       "      <td>1</td>\n",
       "      <td>8816.85</td>\n",
       "      <td>Canada</td>\n",
       "      <td>Fama UR-25</td>\n",
       "      <td>Urban</td>\n",
       "      <td>Regular</td>\n",
       "      <td>Fama</td>\n",
       "      <td>Ontario</td>\n",
       "      <td>N</td>\n",
       "      <td>3</td>\n",
       "      <td>2015</td>\n",
       "    </tr>\n",
       "    <tr>\n",
       "      <th>372</th>\n",
       "      <td>1145</td>\n",
       "      <td>2015-06-30</td>\n",
       "      <td>M6H</td>\n",
       "      <td>1</td>\n",
       "      <td>4031.37</td>\n",
       "      <td>Canada</td>\n",
       "      <td>Pirum UR-02</td>\n",
       "      <td>Urban</td>\n",
       "      <td>Regular</td>\n",
       "      <td>Pirum</td>\n",
       "      <td>Ontario</td>\n",
       "      <td>N</td>\n",
       "      <td>6</td>\n",
       "      <td>2015</td>\n",
       "    </tr>\n",
       "    <tr>\n",
       "      <th>522</th>\n",
       "      <td>1145</td>\n",
       "      <td>2015-01-28</td>\n",
       "      <td>L5R</td>\n",
       "      <td>1</td>\n",
       "      <td>4031.37</td>\n",
       "      <td>Canada</td>\n",
       "      <td>Pirum UR-02</td>\n",
       "      <td>Urban</td>\n",
       "      <td>Regular</td>\n",
       "      <td>Pirum</td>\n",
       "      <td>Ontario</td>\n",
       "      <td>N</td>\n",
       "      <td>1</td>\n",
       "      <td>2015</td>\n",
       "    </tr>\n",
       "    <tr>\n",
       "      <th>541</th>\n",
       "      <td>240</td>\n",
       "      <td>2015-01-16</td>\n",
       "      <td>V5M</td>\n",
       "      <td>1</td>\n",
       "      <td>5528.25</td>\n",
       "      <td>Canada</td>\n",
       "      <td>Fama UR-12</td>\n",
       "      <td>Urban</td>\n",
       "      <td>Regular</td>\n",
       "      <td>Fama</td>\n",
       "      <td>British Columbia</td>\n",
       "      <td>N</td>\n",
       "      <td>1</td>\n",
       "      <td>2015</td>\n",
       "    </tr>\n",
       "    <tr>\n",
       "      <th>543</th>\n",
       "      <td>1145</td>\n",
       "      <td>2015-03-31</td>\n",
       "      <td>V6E</td>\n",
       "      <td>1</td>\n",
       "      <td>4031.37</td>\n",
       "      <td>Canada</td>\n",
       "      <td>Pirum UR-02</td>\n",
       "      <td>Urban</td>\n",
       "      <td>Regular</td>\n",
       "      <td>Pirum</td>\n",
       "      <td>British Columbia</td>\n",
       "      <td>N</td>\n",
       "      <td>3</td>\n",
       "      <td>2015</td>\n",
       "    </tr>\n",
       "    <tr>\n",
       "      <th>569</th>\n",
       "      <td>1763</td>\n",
       "      <td>2015-01-01</td>\n",
       "      <td>T6G</td>\n",
       "      <td>1</td>\n",
       "      <td>5669.37</td>\n",
       "      <td>Canada</td>\n",
       "      <td>Pomum UR-09</td>\n",
       "      <td>Urban</td>\n",
       "      <td>Regular</td>\n",
       "      <td>Pomum</td>\n",
       "      <td>Alberta</td>\n",
       "      <td>N</td>\n",
       "      <td>1</td>\n",
       "      <td>2015</td>\n",
       "    </tr>\n",
       "    <tr>\n",
       "      <th>676</th>\n",
       "      <td>1145</td>\n",
       "      <td>2015-03-11</td>\n",
       "      <td>T6E</td>\n",
       "      <td>1</td>\n",
       "      <td>4031.37</td>\n",
       "      <td>Canada</td>\n",
       "      <td>Pirum UR-02</td>\n",
       "      <td>Urban</td>\n",
       "      <td>Regular</td>\n",
       "      <td>Pirum</td>\n",
       "      <td>Alberta</td>\n",
       "      <td>N</td>\n",
       "      <td>3</td>\n",
       "      <td>2015</td>\n",
       "    </tr>\n",
       "    <tr>\n",
       "      <th>702</th>\n",
       "      <td>1999</td>\n",
       "      <td>2015-03-01</td>\n",
       "      <td>T6E</td>\n",
       "      <td>1</td>\n",
       "      <td>8126.37</td>\n",
       "      <td>Canada</td>\n",
       "      <td>Currus UR-02</td>\n",
       "      <td>Urban</td>\n",
       "      <td>Regular</td>\n",
       "      <td>Currus</td>\n",
       "      <td>Alberta</td>\n",
       "      <td>N</td>\n",
       "      <td>3</td>\n",
       "      <td>2015</td>\n",
       "    </tr>\n",
       "    <tr>\n",
       "      <th>725</th>\n",
       "      <td>1999</td>\n",
       "      <td>2015-05-31</td>\n",
       "      <td>R2G</td>\n",
       "      <td>1</td>\n",
       "      <td>8126.37</td>\n",
       "      <td>Canada</td>\n",
       "      <td>Currus UR-02</td>\n",
       "      <td>Urban</td>\n",
       "      <td>Regular</td>\n",
       "      <td>Currus</td>\n",
       "      <td>Manitoba</td>\n",
       "      <td>N</td>\n",
       "      <td>5</td>\n",
       "      <td>2015</td>\n",
       "    </tr>\n",
       "    <tr>\n",
       "      <th>742</th>\n",
       "      <td>862</td>\n",
       "      <td>2015-06-21</td>\n",
       "      <td>V7W</td>\n",
       "      <td>1</td>\n",
       "      <td>2330.37</td>\n",
       "      <td>Canada</td>\n",
       "      <td>Natura UR-08</td>\n",
       "      <td>Urban</td>\n",
       "      <td>Regular</td>\n",
       "      <td>Natura</td>\n",
       "      <td>British Columbia</td>\n",
       "      <td>N</td>\n",
       "      <td>6</td>\n",
       "      <td>2015</td>\n",
       "    </tr>\n",
       "    <tr>\n",
       "      <th>778</th>\n",
       "      <td>2036</td>\n",
       "      <td>2015-04-14</td>\n",
       "      <td>V5P</td>\n",
       "      <td>2</td>\n",
       "      <td>4408.74</td>\n",
       "      <td>Canada</td>\n",
       "      <td>Currus UR-39</td>\n",
       "      <td>Urban</td>\n",
       "      <td>Regular</td>\n",
       "      <td>Currus</td>\n",
       "      <td>British Columbia</td>\n",
       "      <td>N</td>\n",
       "      <td>4</td>\n",
       "      <td>2015</td>\n",
       "    </tr>\n",
       "    <tr>\n",
       "      <th>951</th>\n",
       "      <td>1145</td>\n",
       "      <td>2015-05-12</td>\n",
       "      <td>T3G</td>\n",
       "      <td>1</td>\n",
       "      <td>4031.37</td>\n",
       "      <td>Canada</td>\n",
       "      <td>Pirum UR-02</td>\n",
       "      <td>Urban</td>\n",
       "      <td>Regular</td>\n",
       "      <td>Pirum</td>\n",
       "      <td>Alberta</td>\n",
       "      <td>N</td>\n",
       "      <td>5</td>\n",
       "      <td>2015</td>\n",
       "    </tr>\n",
       "    <tr>\n",
       "      <th>987</th>\n",
       "      <td>1145</td>\n",
       "      <td>2015-05-18</td>\n",
       "      <td>T6K</td>\n",
       "      <td>1</td>\n",
       "      <td>4031.37</td>\n",
       "      <td>Canada</td>\n",
       "      <td>Pirum UR-02</td>\n",
       "      <td>Urban</td>\n",
       "      <td>Regular</td>\n",
       "      <td>Pirum</td>\n",
       "      <td>Alberta</td>\n",
       "      <td>N</td>\n",
       "      <td>5</td>\n",
       "      <td>2015</td>\n",
       "    </tr>\n",
       "    <tr>\n",
       "      <th>1008</th>\n",
       "      <td>2015</td>\n",
       "      <td>2015-05-28</td>\n",
       "      <td>T6B</td>\n",
       "      <td>1</td>\n",
       "      <td>4094.37</td>\n",
       "      <td>Canada</td>\n",
       "      <td>Currus UR-18</td>\n",
       "      <td>Urban</td>\n",
       "      <td>Regular</td>\n",
       "      <td>Currus</td>\n",
       "      <td>Alberta</td>\n",
       "      <td>N</td>\n",
       "      <td>5</td>\n",
       "      <td>2015</td>\n",
       "    </tr>\n",
       "    <tr>\n",
       "      <th>1013</th>\n",
       "      <td>2136</td>\n",
       "      <td>2015-04-21</td>\n",
       "      <td>V5M</td>\n",
       "      <td>1</td>\n",
       "      <td>5417.37</td>\n",
       "      <td>Canada</td>\n",
       "      <td>Victoria UR-12</td>\n",
       "      <td>Urban</td>\n",
       "      <td>Regular</td>\n",
       "      <td>Victoria</td>\n",
       "      <td>British Columbia</td>\n",
       "      <td>N</td>\n",
       "      <td>4</td>\n",
       "      <td>2015</td>\n",
       "    </tr>\n",
       "    <tr>\n",
       "      <th>1020</th>\n",
       "      <td>165</td>\n",
       "      <td>2015-05-19</td>\n",
       "      <td>T2C</td>\n",
       "      <td>1</td>\n",
       "      <td>8060.85</td>\n",
       "      <td>Canada</td>\n",
       "      <td>Abbas UR-36</td>\n",
       "      <td>Urban</td>\n",
       "      <td>Regular</td>\n",
       "      <td>Abbas</td>\n",
       "      <td>Alberta</td>\n",
       "      <td>N</td>\n",
       "      <td>5</td>\n",
       "      <td>2015</td>\n",
       "    </tr>\n",
       "    <tr>\n",
       "      <th>1050</th>\n",
       "      <td>237</td>\n",
       "      <td>2015-05-12</td>\n",
       "      <td>L5T</td>\n",
       "      <td>1</td>\n",
       "      <td>6296.85</td>\n",
       "      <td>Canada</td>\n",
       "      <td>Fama UR-09</td>\n",
       "      <td>Urban</td>\n",
       "      <td>Regular</td>\n",
       "      <td>Fama</td>\n",
       "      <td>Ontario</td>\n",
       "      <td>N</td>\n",
       "      <td>5</td>\n",
       "      <td>2015</td>\n",
       "    </tr>\n",
       "    <tr>\n",
       "      <th>1055</th>\n",
       "      <td>1145</td>\n",
       "      <td>2015-05-13</td>\n",
       "      <td>M6G</td>\n",
       "      <td>1</td>\n",
       "      <td>4031.37</td>\n",
       "      <td>Canada</td>\n",
       "      <td>Pirum UR-02</td>\n",
       "      <td>Urban</td>\n",
       "      <td>Regular</td>\n",
       "      <td>Pirum</td>\n",
       "      <td>Ontario</td>\n",
       "      <td>N</td>\n",
       "      <td>5</td>\n",
       "      <td>2015</td>\n",
       "    </tr>\n",
       "    <tr>\n",
       "      <th>1094</th>\n",
       "      <td>1145</td>\n",
       "      <td>2015-04-22</td>\n",
       "      <td>M4V</td>\n",
       "      <td>1</td>\n",
       "      <td>4031.37</td>\n",
       "      <td>Canada</td>\n",
       "      <td>Pirum UR-02</td>\n",
       "      <td>Urban</td>\n",
       "      <td>Regular</td>\n",
       "      <td>Pirum</td>\n",
       "      <td>Ontario</td>\n",
       "      <td>N</td>\n",
       "      <td>4</td>\n",
       "      <td>2015</td>\n",
       "    </tr>\n",
       "    <tr>\n",
       "      <th>1212</th>\n",
       "      <td>244</td>\n",
       "      <td>2015-03-23</td>\n",
       "      <td>R2G</td>\n",
       "      <td>1</td>\n",
       "      <td>7556.85</td>\n",
       "      <td>Canada</td>\n",
       "      <td>Fama UR-16</td>\n",
       "      <td>Urban</td>\n",
       "      <td>Regular</td>\n",
       "      <td>Fama</td>\n",
       "      <td>Manitoba</td>\n",
       "      <td>N</td>\n",
       "      <td>3</td>\n",
       "      <td>2015</td>\n",
       "    </tr>\n",
       "    <tr>\n",
       "      <th>1252</th>\n",
       "      <td>1145</td>\n",
       "      <td>2015-06-15</td>\n",
       "      <td>V6M</td>\n",
       "      <td>1</td>\n",
       "      <td>4031.37</td>\n",
       "      <td>Canada</td>\n",
       "      <td>Pirum UR-02</td>\n",
       "      <td>Urban</td>\n",
       "      <td>Regular</td>\n",
       "      <td>Pirum</td>\n",
       "      <td>British Columbia</td>\n",
       "      <td>N</td>\n",
       "      <td>6</td>\n",
       "      <td>2015</td>\n",
       "    </tr>\n",
       "    <tr>\n",
       "      <th>1300</th>\n",
       "      <td>1145</td>\n",
       "      <td>2015-05-27</td>\n",
       "      <td>M6H</td>\n",
       "      <td>1</td>\n",
       "      <td>4031.37</td>\n",
       "      <td>Canada</td>\n",
       "      <td>Pirum UR-02</td>\n",
       "      <td>Urban</td>\n",
       "      <td>Regular</td>\n",
       "      <td>Pirum</td>\n",
       "      <td>Ontario</td>\n",
       "      <td>N</td>\n",
       "      <td>5</td>\n",
       "      <td>2015</td>\n",
       "    </tr>\n",
       "    <tr>\n",
       "      <th>1311</th>\n",
       "      <td>1145</td>\n",
       "      <td>2015-01-28</td>\n",
       "      <td>L5N</td>\n",
       "      <td>1</td>\n",
       "      <td>4031.37</td>\n",
       "      <td>Canada</td>\n",
       "      <td>Pirum UR-02</td>\n",
       "      <td>Urban</td>\n",
       "      <td>Regular</td>\n",
       "      <td>Pirum</td>\n",
       "      <td>Ontario</td>\n",
       "      <td>N</td>\n",
       "      <td>1</td>\n",
       "      <td>2015</td>\n",
       "    </tr>\n",
       "    <tr>\n",
       "      <th>1328</th>\n",
       "      <td>2015</td>\n",
       "      <td>2015-06-08</td>\n",
       "      <td>M6H</td>\n",
       "      <td>1</td>\n",
       "      <td>4094.37</td>\n",
       "      <td>Canada</td>\n",
       "      <td>Currus UR-18</td>\n",
       "      <td>Urban</td>\n",
       "      <td>Regular</td>\n",
       "      <td>Currus</td>\n",
       "      <td>Ontario</td>\n",
       "      <td>N</td>\n",
       "      <td>6</td>\n",
       "      <td>2015</td>\n",
       "    </tr>\n",
       "    <tr>\n",
       "      <th>1333</th>\n",
       "      <td>2133</td>\n",
       "      <td>2015-06-09</td>\n",
       "      <td>L5G</td>\n",
       "      <td>1</td>\n",
       "      <td>5480.37</td>\n",
       "      <td>Canada</td>\n",
       "      <td>Victoria UR-09</td>\n",
       "      <td>Urban</td>\n",
       "      <td>Regular</td>\n",
       "      <td>Victoria</td>\n",
       "      <td>Ontario</td>\n",
       "      <td>N</td>\n",
       "      <td>6</td>\n",
       "      <td>2015</td>\n",
       "    </tr>\n",
       "    <tr>\n",
       "      <th>1383</th>\n",
       "      <td>1145</td>\n",
       "      <td>2015-04-12</td>\n",
       "      <td>K1R</td>\n",
       "      <td>1</td>\n",
       "      <td>4031.37</td>\n",
       "      <td>Canada</td>\n",
       "      <td>Pirum UR-02</td>\n",
       "      <td>Urban</td>\n",
       "      <td>Regular</td>\n",
       "      <td>Pirum</td>\n",
       "      <td>Ontario</td>\n",
       "      <td>N</td>\n",
       "      <td>4</td>\n",
       "      <td>2015</td>\n",
       "    </tr>\n",
       "    <tr>\n",
       "      <th>1393</th>\n",
       "      <td>1145</td>\n",
       "      <td>2015-06-18</td>\n",
       "      <td>M6G</td>\n",
       "      <td>1</td>\n",
       "      <td>4031.37</td>\n",
       "      <td>Canada</td>\n",
       "      <td>Pirum UR-02</td>\n",
       "      <td>Urban</td>\n",
       "      <td>Regular</td>\n",
       "      <td>Pirum</td>\n",
       "      <td>Ontario</td>\n",
       "      <td>N</td>\n",
       "      <td>6</td>\n",
       "      <td>2015</td>\n",
       "    </tr>\n",
       "  </tbody>\n",
       "</table>\n",
       "</div>"
      ],
      "text/plain": [
       "      ProductID       Date  Zip  Units  Revenue Country         Product  \\\n",
       "28          244 2015-05-27  L5N      1  7556.85  Canada      Fama UR-16   \n",
       "51         2143 2015-04-06  M7Y      1  5291.37  Canada  Victoria UR-19   \n",
       "222         229 2015-03-10  T5J      1  7241.85  Canada      Fama UR-01   \n",
       "346        2145 2015-03-12  L5G      1  4850.37  Canada  Victoria UR-21   \n",
       "360         253 2015-03-13  M6G      1  8816.85  Canada      Fama UR-25   \n",
       "372        1145 2015-06-30  M6H      1  4031.37  Canada     Pirum UR-02   \n",
       "522        1145 2015-01-28  L5R      1  4031.37  Canada     Pirum UR-02   \n",
       "541         240 2015-01-16  V5M      1  5528.25  Canada      Fama UR-12   \n",
       "543        1145 2015-03-31  V6E      1  4031.37  Canada     Pirum UR-02   \n",
       "569        1763 2015-01-01  T6G      1  5669.37  Canada     Pomum UR-09   \n",
       "676        1145 2015-03-11  T6E      1  4031.37  Canada     Pirum UR-02   \n",
       "702        1999 2015-03-01  T6E      1  8126.37  Canada    Currus UR-02   \n",
       "725        1999 2015-05-31  R2G      1  8126.37  Canada    Currus UR-02   \n",
       "742         862 2015-06-21  V7W      1  2330.37  Canada    Natura UR-08   \n",
       "778        2036 2015-04-14  V5P      2  4408.74  Canada    Currus UR-39   \n",
       "951        1145 2015-05-12  T3G      1  4031.37  Canada     Pirum UR-02   \n",
       "987        1145 2015-05-18  T6K      1  4031.37  Canada     Pirum UR-02   \n",
       "1008       2015 2015-05-28  T6B      1  4094.37  Canada    Currus UR-18   \n",
       "1013       2136 2015-04-21  V5M      1  5417.37  Canada  Victoria UR-12   \n",
       "1020        165 2015-05-19  T2C      1  8060.85  Canada     Abbas UR-36   \n",
       "1050        237 2015-05-12  L5T      1  6296.85  Canada      Fama UR-09   \n",
       "1055       1145 2015-05-13  M6G      1  4031.37  Canada     Pirum UR-02   \n",
       "1094       1145 2015-04-22  M4V      1  4031.37  Canada     Pirum UR-02   \n",
       "1212        244 2015-03-23  R2G      1  7556.85  Canada      Fama UR-16   \n",
       "1252       1145 2015-06-15  V6M      1  4031.37  Canada     Pirum UR-02   \n",
       "1300       1145 2015-05-27  M6H      1  4031.37  Canada     Pirum UR-02   \n",
       "1311       1145 2015-01-28  L5N      1  4031.37  Canada     Pirum UR-02   \n",
       "1328       2015 2015-06-08  M6H      1  4094.37  Canada    Currus UR-18   \n",
       "1333       2133 2015-06-09  L5G      1  5480.37  Canada  Victoria UR-09   \n",
       "1383       1145 2015-04-12  K1R      1  4031.37  Canada     Pirum UR-02   \n",
       "1393       1145 2015-06-18  M6G      1  4031.37  Canada     Pirum UR-02   \n",
       "\n",
       "     Category  Segment Manufacturer             State isVanArsdel  Month  Year  \n",
       "28      Urban  Regular         Fama           Ontario           N      5  2015  \n",
       "51      Urban  Regular     Victoria           Ontario           N      4  2015  \n",
       "222     Urban  Regular         Fama           Alberta           N      3  2015  \n",
       "346     Urban  Regular     Victoria           Ontario           N      3  2015  \n",
       "360     Urban  Regular         Fama           Ontario           N      3  2015  \n",
       "372     Urban  Regular        Pirum           Ontario           N      6  2015  \n",
       "522     Urban  Regular        Pirum           Ontario           N      1  2015  \n",
       "541     Urban  Regular         Fama  British Columbia           N      1  2015  \n",
       "543     Urban  Regular        Pirum  British Columbia           N      3  2015  \n",
       "569     Urban  Regular        Pomum           Alberta           N      1  2015  \n",
       "676     Urban  Regular        Pirum           Alberta           N      3  2015  \n",
       "702     Urban  Regular       Currus           Alberta           N      3  2015  \n",
       "725     Urban  Regular       Currus          Manitoba           N      5  2015  \n",
       "742     Urban  Regular       Natura  British Columbia           N      6  2015  \n",
       "778     Urban  Regular       Currus  British Columbia           N      4  2015  \n",
       "951     Urban  Regular        Pirum           Alberta           N      5  2015  \n",
       "987     Urban  Regular        Pirum           Alberta           N      5  2015  \n",
       "1008    Urban  Regular       Currus           Alberta           N      5  2015  \n",
       "1013    Urban  Regular     Victoria  British Columbia           N      4  2015  \n",
       "1020    Urban  Regular        Abbas           Alberta           N      5  2015  \n",
       "1050    Urban  Regular         Fama           Ontario           N      5  2015  \n",
       "1055    Urban  Regular        Pirum           Ontario           N      5  2015  \n",
       "1094    Urban  Regular        Pirum           Ontario           N      4  2015  \n",
       "1212    Urban  Regular         Fama          Manitoba           N      3  2015  \n",
       "1252    Urban  Regular        Pirum  British Columbia           N      6  2015  \n",
       "1300    Urban  Regular        Pirum           Ontario           N      5  2015  \n",
       "1311    Urban  Regular        Pirum           Ontario           N      1  2015  \n",
       "1328    Urban  Regular       Currus           Ontario           N      6  2015  \n",
       "1333    Urban  Regular     Victoria           Ontario           N      6  2015  \n",
       "1383    Urban  Regular        Pirum           Ontario           N      4  2015  \n",
       "1393    Urban  Regular        Pirum           Ontario           N      6  2015  "
      ]
     },
     "execution_count": 112,
     "metadata": {},
     "output_type": "execute_result"
    }
   ],
   "source": [
    "Sales[Sales['Segment']=='Regular']"
   ]
  },
  {
   "cell_type": "code",
   "execution_count": 69,
   "metadata": {},
   "outputs": [
    {
     "data": {
      "text/plain": [
       "Productivity    598\n",
       "Convenience     405\n",
       "Extreme         347\n",
       "Moderation      306\n",
       "Regular         262\n",
       "Select          177\n",
       "All Season      169\n",
       "Youth           148\n",
       "Name: Segment, dtype: int64"
      ]
     },
     "execution_count": 69,
     "metadata": {},
     "output_type": "execute_result"
    }
   ],
   "source": [
    "Product[\"Segment\"].value_counts()"
   ]
  },
  {
   "cell_type": "markdown",
   "metadata": {},
   "source": []
  },
  {
   "cell_type": "markdown",
   "metadata": {},
   "source": [
    "# Visualisation"
   ]
  },
  {
   "cell_type": "markdown",
   "metadata": {},
   "source": [
    "Lets make some plots to visualize what the some aspects of the data. I will make use of seaborn which I introduced in an earlier notebook"
   ]
  },
  {
   "cell_type": "code",
   "execution_count": 115,
   "metadata": {},
   "outputs": [],
   "source": [
    "import seaborn as sns\n"
   ]
  },
  {
   "cell_type": "code",
   "execution_count": 204,
   "metadata": {},
   "outputs": [],
   "source": [
    "sns.set_style(\"white\")\n",
    "sns.set(font_scale=2.0) "
   ]
  },
  {
   "cell_type": "code",
   "execution_count": 209,
   "metadata": {
    "scrolled": false
   },
   "outputs": [
    {
     "data": {
      "text/plain": [
       "<matplotlib.text.Text at 0x7f870f71e048>"
      ]
     },
     "execution_count": 209,
     "metadata": {},
     "output_type": "execute_result"
    },
    {
     "data": {
      "image/png": "[encoded data removed]",
      "text/plain": [
       "<matplotlib.figure.Figure at 0x7f870f7e20f0>"
      ]
     },
     "metadata": {},
     "output_type": "display_data"
    }
   ],
   "source": [
    "\n",
    "g=sns.factorplot(x=\"State\", y=\"Revenue\",hue=\"isVanArsdel\",data=Sales,kind=\"bar\",size=8, aspect=2,ci=None)\n",
    "g.set_ylabels(\"Revenue (Cdn)\")\n",
    "g.set_xlabels(\"Province\")\n",
    "sns.plt.title('Factor plot showing revenue across provinces in Canada')"
   ]
  },
  {
   "cell_type": "markdown",
   "metadata": {},
   "source": [
    "we could add confidence intervals to the plot above but for now lets leave it as it is. This can be achieved by chaning ci from None to a value calculated from the dataset or by bootstrapping. This is more of an indepth statistical analysis which at the moment is not important to us. Details of this can be found here http://www.randalolson.com/2012/08/06/statistical-analysis-made-easy-in-python/ and here http://stackoverflow.com/questions/15033511/compute-a-confidence-interval-from-sample-data"
   ]
  },
  {
   "cell_type": "markdown",
   "metadata": {},
   "source": [
    "Lets visualize the revenue generated by each segement"
   ]
  },
  {
   "cell_type": "code",
   "execution_count": 223,
   "metadata": {},
   "outputs": [
    {
     "data": {
      "text/plain": [
       "<matplotlib.text.Text at 0x7f870f70fb38>"
      ]
     },
     "execution_count": 223,
     "metadata": {},
     "output_type": "execute_result"
    },
    {
     "data": {
      "image/png": "[encoded data removed]",
      "text/plain": [
       "<matplotlib.figure.Figure at 0x7f870f988048>"
      ]
     },
     "metadata": {},
     "output_type": "display_data"
    }
   ],
   "source": [
    "g=sns.factorplot(x=\"Revenue\", y=\"Segment\",hue=\"isVanArsdel\",data=Sales,kind=\"bar\",size=8, aspect=2,orient=\"h\",ci=None)\n",
    "g.set_ylabels(\"Segment\")\n",
    "g.set_xlabels(\"Revenue\")\n",
    "sns.plt.title('Factor plot showing revenue by segment')"
   ]
  },
  {
   "cell_type": "markdown",
   "metadata": {},
   "source": [
    "The plot above shows that the select and moderation segments generated the most revenue.  This plot summarizes the pivot table we earlier had which grouped the sales/revenue by segment."
   ]
  },
  {
   "cell_type": "markdown",
   "metadata": {},
   "source": [
    "Many other pivot tables that group the data in various and their corresponding plots can be made. For example, we can generate a pivot table that will group the data by category. Those tables and graphs are  extrapolations of what we have done already, hence, will not cover them in this tutorial."
   ]
  },
  {
   "cell_type": "code",
   "execution_count": null,
   "metadata": {
    "collapsed": true
   },
   "outputs": [],
   "source": []
  }
 ],
 "metadata": {
  "kernelspec": {
   "display_name": "Python 3",
   "language": "python",
   "name": "python3"
  },
  "language_info": {
   "codemirror_mode": {
    "name": "ipython",
    "version": 3
   },
   "file_extension": ".py",
   "mimetype": "text/x-python",
   "name": "python",
   "nbconvert_exporter": "python",
   "pygments_lexer": "ipython3",
   "version": "3.4.3"
  }
 },
 "nbformat": 4,
 "nbformat_minor": 1
}
